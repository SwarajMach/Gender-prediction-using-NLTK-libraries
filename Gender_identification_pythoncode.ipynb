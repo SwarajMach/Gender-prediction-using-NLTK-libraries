{
 "cells": [
  {
   "cell_type": "code",
   "execution_count": 383,
   "metadata": {
    "collapsed": true
   },
   "outputs": [],
   "source": [
    "import pandas as pd\n",
    "import os\n",
    "os.chdir('F:\\MSBAPM\\Python\\Assignment5(3)')"
   ]
  },
  {
   "cell_type": "code",
   "execution_count": 384,
   "metadata": {
    "collapsed": true
   },
   "outputs": [],
   "source": [
    "train = pd.read_csv('train.csv')\n",
    "test = pd.read_csv('test.csv')"
   ]
  },
  {
   "cell_type": "markdown",
   "metadata": {},
   "source": [
    "## 1. Predicting Gender with Username\n",
    "Some potential features of usernames: whether it has capital letters, whether it has digits, number of characters, number of vowels, first and last letters, etc. See http://www.nltk.org/book/ch06.html for some related code."
   ]
  },
  {
   "cell_type": "code",
   "execution_count": 385,
   "metadata": {
    "collapsed": true
   },
   "outputs": [],
   "source": [
    "import pandas as pd\n",
    "import numpy as np\n",
    "from sklearn.preprocessing import LabelEncoder"
   ]
  },
  {
   "cell_type": "code",
   "execution_count": 386,
   "metadata": {
    "collapsed": true
   },
   "outputs": [],
   "source": [
    "lb = LabelEncoder()"
   ]
  },
  {
   "cell_type": "code",
   "execution_count": 387,
   "metadata": {},
   "outputs": [
    {
     "data": {
      "text/html": [
       "<div>\n",
       "<style>\n",
       "    .dataframe thead tr:only-child th {\n",
       "        text-align: right;\n",
       "    }\n",
       "\n",
       "    .dataframe thead th {\n",
       "        text-align: left;\n",
       "    }\n",
       "\n",
       "    .dataframe tbody tr th {\n",
       "        vertical-align: top;\n",
       "    }\n",
       "</style>\n",
       "<table border=\"1\" class=\"dataframe\">\n",
       "  <thead>\n",
       "    <tr style=\"text-align: right;\">\n",
       "      <th></th>\n",
       "      <th>username</th>\n",
       "      <th>gender</th>\n",
       "      <th>status</th>\n",
       "      <th>description</th>\n",
       "    </tr>\n",
       "  </thead>\n",
       "  <tbody>\n",
       "    <tr>\n",
       "      <th>0</th>\n",
       "      <td>Vimal20011</td>\n",
       "      <td>M</td>\n",
       "      <td>{u'payment_verified': False, u'identity_verifi...</td>\n",
       "      <td>A team of 5 working on various projects relate...</td>\n",
       "    </tr>\n",
       "    <tr>\n",
       "      <th>1</th>\n",
       "      <td>sheom</td>\n",
       "      <td>M</td>\n",
       "      <td>{u'payment_verified': True, u'identity_verifie...</td>\n",
       "      <td>We are an IT solution and service provider com...</td>\n",
       "    </tr>\n",
       "    <tr>\n",
       "      <th>2</th>\n",
       "      <td>ezbik</td>\n",
       "      <td>M</td>\n",
       "      <td>{u'payment_verified': False, u'identity_verifi...</td>\n",
       "      <td>System administration is my work &amp; hobby.</td>\n",
       "    </tr>\n",
       "    <tr>\n",
       "      <th>3</th>\n",
       "      <td>angelme</td>\n",
       "      <td>F</td>\n",
       "      <td>{u'payment_verified': False, u'identity_verifi...</td>\n",
       "      <td>Good day! Thank you for taking some time to ch...</td>\n",
       "    </tr>\n",
       "    <tr>\n",
       "      <th>4</th>\n",
       "      <td>snitch1</td>\n",
       "      <td>M</td>\n",
       "      <td>{u'payment_verified': False, u'identity_verifi...</td>\n",
       "      <td>I build good relation with clients and deliver...</td>\n",
       "    </tr>\n",
       "  </tbody>\n",
       "</table>\n",
       "</div>"
      ],
      "text/plain": [
       "     username gender                                             status  \\\n",
       "0  Vimal20011      M  {u'payment_verified': False, u'identity_verifi...   \n",
       "1       sheom      M  {u'payment_verified': True, u'identity_verifie...   \n",
       "2       ezbik      M  {u'payment_verified': False, u'identity_verifi...   \n",
       "3     angelme      F  {u'payment_verified': False, u'identity_verifi...   \n",
       "4     snitch1      M  {u'payment_verified': False, u'identity_verifi...   \n",
       "\n",
       "                                         description  \n",
       "0  A team of 5 working on various projects relate...  \n",
       "1  We are an IT solution and service provider com...  \n",
       "2          System administration is my work & hobby.  \n",
       "3  Good day! Thank you for taking some time to ch...  \n",
       "4  I build good relation with clients and deliver...  "
      ]
     },
     "execution_count": 387,
     "metadata": {},
     "output_type": "execute_result"
    }
   ],
   "source": [
    "train.head()"
   ]
  },
  {
   "cell_type": "markdown",
   "metadata": {},
   "source": [
    "### To create features using username"
   ]
  },
  {
   "cell_type": "code",
   "execution_count": 388,
   "metadata": {
    "collapsed": true
   },
   "outputs": [],
   "source": [
    "# Feature for 1st work being capital letter\n",
    "gender_capital = []\n",
    "for word in train['username']:\n",
    "        if word[0].isupper() == True:\n",
    "            gender_capital.append(1)\n",
    "        else: gender_capital.append(0)\n",
    "\n",
    "se = pd.Series(gender_capital)\n",
    "train['Capital_Letter'] = se.values\n",
    "\n",
    "#Feature to verify if username has digits\n",
    "gender_digit = []\n",
    "for word in train['username']:\n",
    "       # if word[0].isdigit() == True:\n",
    "        if any(i.isdigit() for i in word) == True:\n",
    "            gender_digit.append(1)\n",
    "        else: gender_digit.append(0)\n",
    "gender_digit[:10]    \n",
    "dig = pd.Series(gender_digit)\n",
    "train['Hasdigit'] = dig.values\n",
    "\n",
    "#Feature to calculate the legth of characters\n",
    "gender_charlen = []\n",
    "for word in train['username']:\n",
    "      \n",
    "        gender_charlen.append( len(word) - sum(c.isdigit() for c in word))\n",
    "\n",
    "clen = pd.Series(gender_charlen)\n",
    "train['charlen'] = clen.values\n",
    "\n",
    "#Feature to calculate the count of vowels\n",
    "gender_vowlen = []\n",
    "for word in train['username']:\n",
    "      \n",
    "        gender_vowlen.append(sum([1 for char in ''.join(word) if char in 'aeiouAEIOU']))\n",
    "\n",
    "vlen = pd.Series(gender_vowlen)\n",
    "train['vowlen'] = vlen.values\n",
    "\n",
    "#Feature to calculate the count of vowels\n",
    "gender_vowlen = []\n",
    "for word in train['username']:\n",
    "      \n",
    "        gender_vowlen.append(sum([1 for char in ''.join(word) if char in 'aeiouAEIOU']))\n",
    "            \n",
    "vlen = pd.Series(gender_vowlen)\n",
    "train['vowlen'] = vlen.values\n",
    "\n",
    "#code to identify last letter and 1st letter in the text\n",
    "gender_firstletter = []\n",
    "gender_lastletter = []\n",
    "for word in train['username']:\n",
    "      \n",
    "        gender_firstletter.append(word[0])\n",
    "        gender_lastletter.append(word[-1])\n",
    "        \n",
    "fl = pd.Series(gender_firstletter)\n",
    "train['firstletter'] = fl.values\n",
    "\n",
    "ll = pd.Series(gender_lastletter)\n",
    "train['lastletter'] = ll.values\n",
    "\n",
    "# To encode the gender column (target variable) to run models\n",
    "train['gender'] = lb.fit_transform(train['gender'].values)\n",
    "#feat.gender.value_counts()\n",
    "\n",
    "#Encoding first letter and last letter of the column to avoid categorical values in the dataset\n",
    "train['firstletter'] = lb.fit_transform(train['firstletter'].values)\n",
    "train['lastletter'] = lb.fit_transform(train['lastletter'].values)"
   ]
  },
  {
   "cell_type": "code",
   "execution_count": 389,
   "metadata": {},
   "outputs": [
    {
     "data": {
      "text/plain": [
       "Index(['username', 'gender', 'status', 'description', 'Capital_Letter',\n",
       "       'Hasdigit', 'charlen', 'vowlen', 'firstletter', 'lastletter'],\n",
       "      dtype='object')"
      ]
     },
     "execution_count": 389,
     "metadata": {},
     "output_type": "execute_result"
    }
   ],
   "source": [
    "train.columns"
   ]
  },
  {
   "cell_type": "code",
   "execution_count": 390,
   "metadata": {
    "collapsed": true
   },
   "outputs": [],
   "source": [
    "feature_cols = ['Capital_Letter',  'Hasdigit', 'charlen', 'vowlen', 'firstletter', 'lastletter','gender']\n",
    "feat = train[feature_cols]"
   ]
  },
  {
   "cell_type": "code",
   "execution_count": 391,
   "metadata": {},
   "outputs": [
    {
     "data": {
      "text/html": [
       "<div>\n",
       "<style>\n",
       "    .dataframe thead tr:only-child th {\n",
       "        text-align: right;\n",
       "    }\n",
       "\n",
       "    .dataframe thead th {\n",
       "        text-align: left;\n",
       "    }\n",
       "\n",
       "    .dataframe tbody tr th {\n",
       "        vertical-align: top;\n",
       "    }\n",
       "</style>\n",
       "<table border=\"1\" class=\"dataframe\">\n",
       "  <thead>\n",
       "    <tr style=\"text-align: right;\">\n",
       "      <th></th>\n",
       "      <th>Capital_Letter</th>\n",
       "      <th>Hasdigit</th>\n",
       "      <th>charlen</th>\n",
       "      <th>vowlen</th>\n",
       "      <th>firstletter</th>\n",
       "      <th>lastletter</th>\n",
       "      <th>gender</th>\n",
       "    </tr>\n",
       "  </thead>\n",
       "  <tbody>\n",
       "    <tr>\n",
       "      <th>0</th>\n",
       "      <td>1</td>\n",
       "      <td>1</td>\n",
       "      <td>5</td>\n",
       "      <td>2</td>\n",
       "      <td>21</td>\n",
       "      <td>1</td>\n",
       "      <td>1</td>\n",
       "    </tr>\n",
       "    <tr>\n",
       "      <th>1</th>\n",
       "      <td>0</td>\n",
       "      <td>0</td>\n",
       "      <td>5</td>\n",
       "      <td>2</td>\n",
       "      <td>44</td>\n",
       "      <td>47</td>\n",
       "      <td>1</td>\n",
       "    </tr>\n",
       "    <tr>\n",
       "      <th>2</th>\n",
       "      <td>0</td>\n",
       "      <td>0</td>\n",
       "      <td>5</td>\n",
       "      <td>2</td>\n",
       "      <td>30</td>\n",
       "      <td>45</td>\n",
       "      <td>1</td>\n",
       "    </tr>\n",
       "    <tr>\n",
       "      <th>3</th>\n",
       "      <td>0</td>\n",
       "      <td>0</td>\n",
       "      <td>7</td>\n",
       "      <td>3</td>\n",
       "      <td>26</td>\n",
       "      <td>39</td>\n",
       "      <td>0</td>\n",
       "    </tr>\n",
       "    <tr>\n",
       "      <th>4</th>\n",
       "      <td>0</td>\n",
       "      <td>1</td>\n",
       "      <td>6</td>\n",
       "      <td>1</td>\n",
       "      <td>44</td>\n",
       "      <td>1</td>\n",
       "      <td>1</td>\n",
       "    </tr>\n",
       "  </tbody>\n",
       "</table>\n",
       "</div>"
      ],
      "text/plain": [
       "   Capital_Letter  Hasdigit  charlen  vowlen  firstletter  lastletter  gender\n",
       "0               1         1        5       2           21           1       1\n",
       "1               0         0        5       2           44          47       1\n",
       "2               0         0        5       2           30          45       1\n",
       "3               0         0        7       3           26          39       0\n",
       "4               0         1        6       1           44           1       1"
      ]
     },
     "execution_count": 391,
     "metadata": {},
     "output_type": "execute_result"
    }
   ],
   "source": [
    "feat.head()"
   ]
  },
  {
   "cell_type": "markdown",
   "metadata": {},
   "source": [
    "### Naive bayes Classifier"
   ]
  },
  {
   "cell_type": "code",
   "execution_count": 392,
   "metadata": {
    "scrolled": true
   },
   "outputs": [
    {
     "name": "stdout",
     "output_type": "stream",
     "text": [
      "0.7864\n"
     ]
    }
   ],
   "source": [
    "X = feat.drop(['gender'], axis=1)\n",
    "y = feat.gender\n",
    "from sklearn.naive_bayes import GaussianNB\n",
    "nb = GaussianNB()\n",
    "nb.fit(X,y)\n",
    "from sklearn.model_selection import train_test_split\n",
    "Xtrain,Xtest,ytrain,ytest = train_test_split(X,y,test_size =0.40, random_state =123)\n",
    "nb.fit(Xtrain,ytrain)\n",
    "predictions = nb.predict(Xtest)\n",
    "\n",
    "# calculate accuracy\n",
    "from sklearn import metrics\n",
    "print(metrics.accuracy_score(ytest, predictions))"
   ]
  },
  {
   "cell_type": "markdown",
   "metadata": {},
   "source": [
    "### Logistic regression Model"
   ]
  },
  {
   "cell_type": "code",
   "execution_count": 393,
   "metadata": {},
   "outputs": [
    {
     "name": "stdout",
     "output_type": "stream",
     "text": [
      "0.812539987204\n"
     ]
    }
   ],
   "source": [
    "X_log = feat.drop(['gender'], axis=1)\n",
    "y_log = feat.gender\n",
    "# split X and y into training and testing sets\n",
    "from sklearn.cross_validation import train_test_split\n",
    "X1_train, X1_test, y1_train, y1_test = train_test_split(X_log, y_log, random_state=0)\n",
    "\n",
    "# train a logistic regression model on the training set\n",
    "from sklearn.linear_model import LogisticRegression\n",
    "# instantiate model\n",
    "logreg = LogisticRegression()\n",
    "# fit model\n",
    "model = logreg.fit(X1_train, y1_train)\n",
    "\n",
    "# make class predictions for the testing set\n",
    "y1_pred_class = model.predict(X1_test)\n",
    "\n",
    "# calculate accuracy\n",
    "from sklearn import metrics\n",
    "print(metrics.accuracy_score(y1_test, y1_pred_class))"
   ]
  },
  {
   "cell_type": "markdown",
   "metadata": {},
   "source": [
    "### Decision Tree Model"
   ]
  },
  {
   "cell_type": "code",
   "execution_count": 394,
   "metadata": {},
   "outputs": [
    {
     "data": {
      "text/plain": [
       "0.7002666666666667"
      ]
     },
     "execution_count": 394,
     "metadata": {},
     "output_type": "execute_result"
    }
   ],
   "source": [
    "#Import Library\n",
    "from sklearn import tree\n",
    "from sklearn.metrics import roc_auc_score\n",
    "X_dec = feat.drop(['gender'], axis=1)\n",
    "y_dec = feat.gender\n",
    "\n",
    "# split X and y into training and testing sets\n",
    "from sklearn.cross_validation import train_test_split\n",
    "X1_train, X1_test, y1_train, y1_test = train_test_split(X_dec, y_dec, test_size = 0.3,random_state=0)\n",
    "\n",
    "# Create tree object \n",
    "decision = tree.DecisionTreeClassifier() \n",
    "# for classification, here you can change the algorithm as gini or entropy (information gain) by default it is gini  \n",
    "# model = tree.DecisionTreeRegressor() for regression\n",
    "decision\n",
    "\n",
    "# Train the model using the training sets and check score\n",
    "decision.fit(X1_train, y1_train)\n",
    "decision.score(X1_train, y1_train)\n",
    "\n",
    "#Predict Output\n",
    "y_predict= decision.predict(X1_test)\n",
    "\n",
    "from sklearn.metrics import accuracy_score\n",
    "accuracy_score(y1_test, y_predict)"
   ]
  },
  {
   "cell_type": "markdown",
   "metadata": {},
   "source": [
    "## Test Data"
   ]
  },
  {
   "cell_type": "code",
   "execution_count": 395,
   "metadata": {},
   "outputs": [
    {
     "data": {
      "text/plain": [
       "Index(['username', 'status', 'description'], dtype='object')"
      ]
     },
     "execution_count": 395,
     "metadata": {},
     "output_type": "execute_result"
    }
   ],
   "source": [
    "test.columns"
   ]
  },
  {
   "cell_type": "markdown",
   "metadata": {},
   "source": [
    "### creating features for the test set"
   ]
  },
  {
   "cell_type": "code",
   "execution_count": 396,
   "metadata": {
    "collapsed": true
   },
   "outputs": [],
   "source": [
    "# Feature for 1st work being capital letter\n",
    "gender_capital = []\n",
    "for word in test['username']:\n",
    "        if word[0].isupper() == True:\n",
    "            gender_capital.append(1)\n",
    "        else: gender_capital.append(0)\n",
    "\n",
    "se = pd.Series(gender_capital)\n",
    "test['Capital_Letter'] = se.values\n",
    "\n",
    "#Feature to verify if username has digits\n",
    "gender_digit = []\n",
    "for word in test['username']:\n",
    "       # if word[0].isdigit() == True:\n",
    "        if any(i.isdigit() for i in word) == True:\n",
    "            gender_digit.append(1)\n",
    "        else: gender_digit.append(0)\n",
    "gender_digit[:10]    \n",
    "dig = pd.Series(gender_digit)\n",
    "test['Hasdigit'] = dig.values\n",
    "\n",
    "#Feature to calculate the length of characters\n",
    "gender_charlen = []\n",
    "for word in test['username']:\n",
    "      \n",
    "        gender_charlen.append( len(word) - sum(c.isdigit() for c in word))\n",
    "\n",
    "clen = pd.Series(gender_charlen)\n",
    "test['charlen'] = clen.values\n",
    "\n",
    "#Feature to calculate the count of vowels\n",
    "gender_vowlen = []\n",
    "for word in test['username']:\n",
    "      \n",
    "        gender_vowlen.append(sum([1 for char in ''.join(word) if char in 'aeiouAEIOU']))\n",
    "\n",
    "vlen = pd.Series(gender_vowlen)\n",
    "test['vowlen'] = vlen.values\n",
    "\n",
    "#Feature to calculate the count of vowels\n",
    "gender_vowlen = []\n",
    "for word in test['username']:\n",
    "      \n",
    "        gender_vowlen.append(sum([1 for char in ''.join(word) if char in 'aeiouAEIOU']))\n",
    "            \n",
    "vlen = pd.Series(gender_vowlen)\n",
    "test['vowlen'] = vlen.values\n",
    "\n",
    "#code to identify last letter and 1st letter in the text\n",
    "gender_firstletter = []\n",
    "gender_lastletter = []\n",
    "for word in test['username']:\n",
    "      \n",
    "        gender_firstletter.append(word[0])\n",
    "        gender_lastletter.append(word[-1])\n",
    "        \n",
    "fl = pd.Series(gender_firstletter)\n",
    "test['firstletter'] = fl.values\n",
    "\n",
    "ll = pd.Series(gender_lastletter)\n",
    "test['lastletter'] = ll.values\n",
    "\n",
    "#Encoding\n",
    "test['firstletter_enc'] = lb.fit_transform(test['firstletter'].values)\n",
    "test['lastletter_enc'] = lb.fit_transform(test['lastletter'].values)"
   ]
  },
  {
   "cell_type": "code",
   "execution_count": 397,
   "metadata": {},
   "outputs": [
    {
     "data": {
      "text/html": [
       "<div>\n",
       "<style>\n",
       "    .dataframe thead tr:only-child th {\n",
       "        text-align: right;\n",
       "    }\n",
       "\n",
       "    .dataframe thead th {\n",
       "        text-align: left;\n",
       "    }\n",
       "\n",
       "    .dataframe tbody tr th {\n",
       "        vertical-align: top;\n",
       "    }\n",
       "</style>\n",
       "<table border=\"1\" class=\"dataframe\">\n",
       "  <thead>\n",
       "    <tr style=\"text-align: right;\">\n",
       "      <th></th>\n",
       "      <th>username</th>\n",
       "      <th>status</th>\n",
       "      <th>description</th>\n",
       "      <th>Capital_Letter</th>\n",
       "      <th>Hasdigit</th>\n",
       "      <th>charlen</th>\n",
       "      <th>vowlen</th>\n",
       "      <th>firstletter</th>\n",
       "      <th>lastletter</th>\n",
       "      <th>firstletter_enc</th>\n",
       "      <th>lastletter_enc</th>\n",
       "    </tr>\n",
       "  </thead>\n",
       "  <tbody>\n",
       "    <tr>\n",
       "      <th>0</th>\n",
       "      <td>nazrulmadina</td>\n",
       "      <td>{u'payment_verified': False, u'identity_verifi...</td>\n",
       "      <td>I am one of Self-employed person having more t...</td>\n",
       "      <td>0</td>\n",
       "      <td>0</td>\n",
       "      <td>12</td>\n",
       "      <td>5</td>\n",
       "      <td>n</td>\n",
       "      <td>a</td>\n",
       "      <td>39</td>\n",
       "      <td>33</td>\n",
       "    </tr>\n",
       "    <tr>\n",
       "      <th>1</th>\n",
       "      <td>SehrishWarraich</td>\n",
       "      <td>{u'payment_verified': False, u'identity_verifi...</td>\n",
       "      <td>i am sehrish warraich.I do my job sincerelly a...</td>\n",
       "      <td>1</td>\n",
       "      <td>0</td>\n",
       "      <td>15</td>\n",
       "      <td>5</td>\n",
       "      <td>S</td>\n",
       "      <td>h</td>\n",
       "      <td>18</td>\n",
       "      <td>40</td>\n",
       "    </tr>\n",
       "    <tr>\n",
       "      <th>2</th>\n",
       "      <td>samadhinie</td>\n",
       "      <td>{u'payment_verified': False, u'identity_verifi...</td>\n",
       "      <td>Since 2006, Web based solution provider (Web e...</td>\n",
       "      <td>0</td>\n",
       "      <td>0</td>\n",
       "      <td>10</td>\n",
       "      <td>5</td>\n",
       "      <td>s</td>\n",
       "      <td>e</td>\n",
       "      <td>44</td>\n",
       "      <td>37</td>\n",
       "    </tr>\n",
       "    <tr>\n",
       "      <th>3</th>\n",
       "      <td>ebottabi</td>\n",
       "      <td>{u'payment_verified': False, u'identity_verifi...</td>\n",
       "      <td>Founder of  a geolocation service developed on...</td>\n",
       "      <td>0</td>\n",
       "      <td>0</td>\n",
       "      <td>8</td>\n",
       "      <td>4</td>\n",
       "      <td>e</td>\n",
       "      <td>i</td>\n",
       "      <td>30</td>\n",
       "      <td>41</td>\n",
       "    </tr>\n",
       "    <tr>\n",
       "      <th>4</th>\n",
       "      <td>mrjimoy</td>\n",
       "      <td>{u'payment_verified': False, u'identity_verifi...</td>\n",
       "      <td>Me? I am Jimmy, meaning honest, courageous, or...</td>\n",
       "      <td>0</td>\n",
       "      <td>0</td>\n",
       "      <td>7</td>\n",
       "      <td>2</td>\n",
       "      <td>m</td>\n",
       "      <td>y</td>\n",
       "      <td>38</td>\n",
       "      <td>57</td>\n",
       "    </tr>\n",
       "  </tbody>\n",
       "</table>\n",
       "</div>"
      ],
      "text/plain": [
       "          username                                             status  \\\n",
       "0     nazrulmadina  {u'payment_verified': False, u'identity_verifi...   \n",
       "1  SehrishWarraich  {u'payment_verified': False, u'identity_verifi...   \n",
       "2       samadhinie  {u'payment_verified': False, u'identity_verifi...   \n",
       "3         ebottabi  {u'payment_verified': False, u'identity_verifi...   \n",
       "4          mrjimoy  {u'payment_verified': False, u'identity_verifi...   \n",
       "\n",
       "                                         description  Capital_Letter  \\\n",
       "0  I am one of Self-employed person having more t...               0   \n",
       "1  i am sehrish warraich.I do my job sincerelly a...               1   \n",
       "2  Since 2006, Web based solution provider (Web e...               0   \n",
       "3  Founder of  a geolocation service developed on...               0   \n",
       "4  Me? I am Jimmy, meaning honest, courageous, or...               0   \n",
       "\n",
       "   Hasdigit  charlen  vowlen firstletter lastletter  firstletter_enc  \\\n",
       "0         0       12       5           n          a               39   \n",
       "1         0       15       5           S          h               18   \n",
       "2         0       10       5           s          e               44   \n",
       "3         0        8       4           e          i               30   \n",
       "4         0        7       2           m          y               38   \n",
       "\n",
       "   lastletter_enc  \n",
       "0              33  \n",
       "1              40  \n",
       "2              37  \n",
       "3              41  \n",
       "4              57  "
      ]
     },
     "execution_count": 397,
     "metadata": {},
     "output_type": "execute_result"
    }
   ],
   "source": [
    "test.head()"
   ]
  },
  {
   "cell_type": "code",
   "execution_count": 398,
   "metadata": {
    "collapsed": true
   },
   "outputs": [],
   "source": [
    "feature_cols = ['Capital_Letter',  'Hasdigit', 'charlen', 'vowlen', 'firstletter_enc', 'lastletter_enc']\n",
    "x_test = test[feature_cols]"
   ]
  },
  {
   "cell_type": "markdown",
   "metadata": {},
   "source": [
    "### Running Naive Bayes model on test data"
   ]
  },
  {
   "cell_type": "code",
   "execution_count": 399,
   "metadata": {},
   "outputs": [
    {
     "data": {
      "text/plain": [
       "['M', 'M', 'M', 'M', 'M', 'M', 'M', 'M', 'M', 'M']"
      ]
     },
     "execution_count": 399,
     "metadata": {},
     "output_type": "execute_result"
    }
   ],
   "source": [
    "y_predict = nb.predict(x_test)\n",
    "output_gender = []\n",
    "for i in y_predict:\n",
    "    if(i == 1): output_gender.append(\"M\")\n",
    "    else: output_gender.append(\"F\")\n",
    "\n",
    "output_gender[:10]"
   ]
  },
  {
   "cell_type": "code",
   "execution_count": 400,
   "metadata": {
    "collapsed": true
   },
   "outputs": [],
   "source": [
    "# support your predictions are stored in a list named pred_uname\n",
    "zz = pd.DataFrame({'username':test['username'], 'prediction':output_gender})\n",
    "zz.to_csv('pred_uname_nb1.csv', index=False)"
   ]
  },
  {
   "cell_type": "markdown",
   "metadata": {},
   "source": [
    "## Running Logistic model on test data"
   ]
  },
  {
   "cell_type": "code",
   "execution_count": 401,
   "metadata": {
    "collapsed": true
   },
   "outputs": [],
   "source": [
    "y_predict = model.predict(x_test)\n",
    "output_gender = []\n",
    "for i in y_predict:\n",
    "    if(i == 1): output_gender.append(\"M\")\n",
    "    else: output_gender.append(\"F\")\n",
    "\n",
    "#np.unique(y_predict)"
   ]
  },
  {
   "cell_type": "code",
   "execution_count": 402,
   "metadata": {
    "collapsed": true
   },
   "outputs": [],
   "source": [
    "# support your predictions are stored in a list named pred_uname\n",
    "zz = pd.DataFrame({'username':test['username'], 'prediction':output_gender})\n",
    "zz.to_csv('pred_uname_log.csv', index=False)"
   ]
  },
  {
   "cell_type": "code",
   "execution_count": 403,
   "metadata": {},
   "outputs": [
    {
     "data": {
      "text/plain": [
       "array([0, 1], dtype=int64)"
      ]
     },
     "execution_count": 403,
     "metadata": {},
     "output_type": "execute_result"
    }
   ],
   "source": [
    "y_predict = decision.predict(x_test)\n",
    "output_gender = []\n",
    "for i in y_predict:\n",
    "    if(i == 1): output_gender.append(\"M\")\n",
    "    else: output_gender.append(\"F\")\n",
    "\n",
    "np.unique(y_predict)"
   ]
  },
  {
   "cell_type": "code",
   "execution_count": 404,
   "metadata": {
    "collapsed": true
   },
   "outputs": [],
   "source": [
    "# support your predictions are stored in a list named pred_uname\n",
    "zz = pd.DataFrame({'username':test['username'], 'prediction':output_gender})\n",
    "zz.to_csv('pred_uname_dec.csv', index=False)"
   ]
  },
  {
   "cell_type": "markdown",
   "metadata": {},
   "source": [
    "## 2. Predicting Gender with Description\n",
    "The updated notebook for lecture 11 might be of some help, which now includes demo code for making predictions with NLTK classifier."
   ]
  },
  {
   "cell_type": "code",
   "execution_count": 405,
   "metadata": {
    "collapsed": true
   },
   "outputs": [],
   "source": [
    "## read file from csv\n",
    "train_desc = pd.read_csv('train.csv')\n",
    "test_desc = pd.read_csv('test.csv')"
   ]
  },
  {
   "cell_type": "code",
   "execution_count": 406,
   "metadata": {
    "collapsed": true
   },
   "outputs": [],
   "source": [
    "from nltk.corpus import stopwords\n",
    "from nltk.stem import PorterStemmer\n",
    "import string\n",
    "ps = PorterStemmer()\n",
    "from nltk.tokenize import word_tokenize\n",
    "import nltk\n",
    "def preprocess(text):\n",
    "    return [ps.stem(w) for w in word_tokenize(text.lower()) \n",
    "             if w not in string.punctuation and w not in stopwords.words('english')] "
   ]
  },
  {
   "cell_type": "code",
   "execution_count": 407,
   "metadata": {},
   "outputs": [
    {
     "data": {
      "text/html": [
       "<div>\n",
       "<style>\n",
       "    .dataframe thead tr:only-child th {\n",
       "        text-align: right;\n",
       "    }\n",
       "\n",
       "    .dataframe thead th {\n",
       "        text-align: left;\n",
       "    }\n",
       "\n",
       "    .dataframe tbody tr th {\n",
       "        vertical-align: top;\n",
       "    }\n",
       "</style>\n",
       "<table border=\"1\" class=\"dataframe\">\n",
       "  <thead>\n",
       "    <tr style=\"text-align: right;\">\n",
       "      <th></th>\n",
       "      <th>gender</th>\n",
       "      <th>description</th>\n",
       "    </tr>\n",
       "  </thead>\n",
       "  <tbody>\n",
       "    <tr>\n",
       "      <th>0</th>\n",
       "      <td>M</td>\n",
       "      <td>A team of 5 working on various projects relate...</td>\n",
       "    </tr>\n",
       "    <tr>\n",
       "      <th>1</th>\n",
       "      <td>M</td>\n",
       "      <td>We are an IT solution and service provider com...</td>\n",
       "    </tr>\n",
       "    <tr>\n",
       "      <th>2</th>\n",
       "      <td>M</td>\n",
       "      <td>System administration is my work &amp; hobby.</td>\n",
       "    </tr>\n",
       "    <tr>\n",
       "      <th>3</th>\n",
       "      <td>F</td>\n",
       "      <td>Good day! Thank you for taking some time to ch...</td>\n",
       "    </tr>\n",
       "    <tr>\n",
       "      <th>4</th>\n",
       "      <td>M</td>\n",
       "      <td>I build good relation with clients and deliver...</td>\n",
       "    </tr>\n",
       "  </tbody>\n",
       "</table>\n",
       "</div>"
      ],
      "text/plain": [
       "  gender                                        description\n",
       "0      M  A team of 5 working on various projects relate...\n",
       "1      M  We are an IT solution and service provider com...\n",
       "2      M          System administration is my work & hobby.\n",
       "3      F  Good day! Thank you for taking some time to ch...\n",
       "4      M  I build good relation with clients and deliver..."
      ]
     },
     "execution_count": 407,
     "metadata": {},
     "output_type": "execute_result"
    }
   ],
   "source": [
    "#preprocess(train['description'][0])\n",
    "train_df = train_desc[['gender','description']]\n",
    "train_df.head()"
   ]
  },
  {
   "cell_type": "code",
   "execution_count": 408,
   "metadata": {
    "collapsed": true
   },
   "outputs": [],
   "source": [
    "# To preprocess the description by tokenizing, removing stop words,punctuations and using equivalent stem words\n",
    "description1 = list(train_df['description'])\n",
    "gender1 = list(train_df['gender'])\n",
    "tmp = []\n",
    "for t, g in zip(description1, gender1):\n",
    "     tmp.append((preprocess(t), g))"
   ]
  },
  {
   "cell_type": "code",
   "execution_count": 409,
   "metadata": {},
   "outputs": [
    {
     "data": {
      "text/plain": [
       "(['solut',\n",
       "  'servic',\n",
       "  'provid',\n",
       "  'compani',\n",
       "  'expertis',\n",
       "  'e-learn',\n",
       "  'social',\n",
       "  'media',\n",
       "  'marketing.pleas',\n",
       "  'visit',\n",
       "  'compani',\n",
       "  'url',\n",
       "  'know'],\n",
       " 'M')"
      ]
     },
     "execution_count": 409,
     "metadata": {},
     "output_type": "execute_result"
    }
   ],
   "source": [
    "tmp[1]"
   ]
  },
  {
   "cell_type": "markdown",
   "metadata": {},
   "source": [
    "### Extract Features"
   ]
  },
  {
   "cell_type": "code",
   "execution_count": 410,
   "metadata": {},
   "outputs": [
    {
     "data": {
      "text/plain": [
       "298641"
      ]
     },
     "execution_count": 410,
     "metadata": {},
     "output_type": "execute_result"
    }
   ],
   "source": [
    "# Flattening the data\n",
    "all_words = [w for words, c in tmp for w in words]\n",
    "len(all_words)"
   ]
  },
  {
   "cell_type": "code",
   "execution_count": 411,
   "metadata": {},
   "outputs": [
    {
     "data": {
      "text/plain": [
       "['team',\n",
       " '5',\n",
       " 'work',\n",
       " 'variou',\n",
       " 'project',\n",
       " 'relat',\n",
       " 'data',\n",
       " 'entri',\n",
       " 'research',\n",
       " 'work']"
      ]
     },
     "execution_count": 411,
     "metadata": {},
     "output_type": "execute_result"
    }
   ],
   "source": [
    "all_words[:10]"
   ]
  },
  {
   "cell_type": "code",
   "execution_count": 412,
   "metadata": {
    "collapsed": true
   },
   "outputs": [],
   "source": [
    "words_freq = nltk.FreqDist(all_words)"
   ]
  },
  {
   "cell_type": "code",
   "execution_count": 413,
   "metadata": {},
   "outputs": [
    {
     "name": "stdout",
     "output_type": "stream",
     "text": [
      "Before: 36128 , after: 9953\n"
     ]
    }
   ],
   "source": [
    "selected_words = [word for word, freq in words_freq.items() if freq>1]\n",
    "print('Before:',len(words_freq), ', after:', len(selected_words))"
   ]
  },
  {
   "cell_type": "code",
   "execution_count": 414,
   "metadata": {
    "collapsed": true
   },
   "outputs": [],
   "source": [
    "token_data = [([w for w in words if w in selected_words], c) for words, c in tmp]"
   ]
  },
  {
   "cell_type": "code",
   "execution_count": 415,
   "metadata": {
    "collapsed": true
   },
   "outputs": [],
   "source": [
    "def extract_features(words, selected_words):\n",
    "    ''' simply using words counts'''\n",
    "    return nltk.FreqDist([w for w in words if w in selected_words])"
   ]
  },
  {
   "cell_type": "code",
   "execution_count": 416,
   "metadata": {
    "collapsed": true
   },
   "outputs": [],
   "source": [
    "feat_desc = [(extract_features(words,selected_words), c) for words, c in tmp]"
   ]
  },
  {
   "cell_type": "code",
   "execution_count": 417,
   "metadata": {},
   "outputs": [
    {
     "data": {
      "text/plain": [
       "[(FreqDist({'5': 1,\n",
       "            'content': 1,\n",
       "            'data': 1,\n",
       "            'entri': 1,\n",
       "            'project': 1,\n",
       "            'relat': 1,\n",
       "            'research': 1,\n",
       "            'team': 1,\n",
       "            'variou': 1,\n",
       "            'work': 2,\n",
       "            'write': 1}),\n",
       "  'M'),\n",
       " (FreqDist({'compani': 2,\n",
       "            'e-learn': 1,\n",
       "            'expertis': 1,\n",
       "            'know': 1,\n",
       "            'media': 1,\n",
       "            'provid': 1,\n",
       "            'servic': 1,\n",
       "            'social': 1,\n",
       "            'solut': 1,\n",
       "            'url': 1,\n",
       "            'visit': 1}),\n",
       "  'M')]"
      ]
     },
     "execution_count": 417,
     "metadata": {},
     "output_type": "execute_result"
    }
   ],
   "source": [
    "feat_desc[:2]"
   ]
  },
  {
   "cell_type": "markdown",
   "metadata": {},
   "source": [
    "## Naive Bayes Classifier"
   ]
  },
  {
   "cell_type": "code",
   "execution_count": 418,
   "metadata": {},
   "outputs": [
    {
     "name": "stdout",
     "output_type": "stream",
     "text": [
      "accuracy: 0.5552\n",
      "accuracy: 0.508\n",
      "accuracy: 0.5992\n",
      "accuracy: 0.6016\n",
      "accuracy: 0.5532425940752602\n",
      "CV mean accuracy: 0.563448518815\n"
     ]
    }
   ],
   "source": [
    "# 2. Cross-Validation\n",
    "from sklearn.model_selection import KFold\n",
    "import numpy as np\n",
    "k_fold = KFold(n_splits=5, shuffle=True)\n",
    "accu = []\n",
    "for train_idx, test_idx in k_fold.split(feat_desc):\n",
    "    train = [feat_desc[i] for i in train_idx]\n",
    "    test = [feat_desc[i] for i in test_idx]\n",
    "    classifier = nltk.NaiveBayesClassifier.train(train)   \n",
    "    accu.append( nltk.classify.util.accuracy(classifier, test) )\n",
    "    print('accuracy:', accu[len(accu)-1])    \n",
    "print('CV mean accuracy:', np.mean(accu)) ### Maximum Entropy classifier"
   ]
  },
  {
   "cell_type": "markdown",
   "metadata": {
    "collapsed": true
   },
   "source": [
    "### Maximum Entropy classifier"
   ]
  },
  {
   "cell_type": "code",
   "execution_count": 419,
   "metadata": {},
   "outputs": [
    {
     "name": "stdout",
     "output_type": "stream",
     "text": [
      "  ==> Training (5 iterations)\n",
      "\n",
      "      Iteration    Log Likelihood    Accuracy\n",
      "      ---------------------------------------\n",
      "             1          -0.69315        0.814\n",
      "             2          -0.34973        0.807\n",
      "             3          -0.30039        0.800\n",
      "             4          -0.28307        0.795\n",
      "         Final          -0.27425        0.792\n",
      "accuracy: 0.7848\n",
      "  ==> Training (5 iterations)\n",
      "\n",
      "      Iteration    Log Likelihood    Accuracy\n",
      "      ---------------------------------------\n",
      "             1          -0.69315        0.813\n",
      "             2          -0.46357        0.763\n",
      "             3          -0.45449        0.701\n",
      "             4          -0.45664        0.670\n",
      "         Final          -0.45868        0.658\n",
      "accuracy: 0.6296\n",
      "  ==> Training (5 iterations)\n",
      "\n",
      "      Iteration    Log Likelihood    Accuracy\n",
      "      ---------------------------------------\n",
      "             1          -0.69315        0.811\n",
      "             2          -0.41176        0.796\n",
      "             3          -0.36109        0.777\n",
      "             4          -0.34772        0.759\n",
      "         Final          -0.34164        0.750\n",
      "accuracy: 0.7368\n",
      "  ==> Training (5 iterations)\n",
      "\n",
      "      Iteration    Log Likelihood    Accuracy\n",
      "      ---------------------------------------\n",
      "             1          -0.69315        0.814\n",
      "             2          -0.32116        0.813\n",
      "             3          -0.27850        0.808\n",
      "             4          -0.26604        0.801\n",
      "         Final          -0.25953        0.798\n",
      "accuracy: 0.7832\n",
      "  ==> Training (5 iterations)\n",
      "\n",
      "      Iteration    Log Likelihood    Accuracy\n",
      "      ---------------------------------------\n",
      "             1          -0.69315        0.813\n",
      "             2          -0.36115        0.805\n",
      "             3          -0.31244        0.797\n",
      "             4          -0.29776        0.789\n",
      "         Final          -0.29051        0.781\n",
      "accuracy: 0.7758206565252201\n",
      "CV mean accuracy: 0.742044131305\n"
     ]
    }
   ],
   "source": [
    "k_fold = KFold(n_splits=5, shuffle=True)\n",
    "accu = []\n",
    "for train_idx, test_idx in k_fold.split(feat_desc):\n",
    "    train = [feat_desc[i] for i in train_idx]\n",
    "    test = [feat_desc[i] for i in test_idx]\n",
    "    classifier2_me = nltk.classify.MaxentClassifier.train(train, trace=3, max_iter=5)       \n",
    "    accu.append( nltk.classify.util.accuracy(classifier2_me, test) )\n",
    "    print('accuracy:', accu[len(accu)-1])    \n",
    "print('CV mean accuracy:', np.mean(accu)) "
   ]
  },
  {
   "cell_type": "markdown",
   "metadata": {},
   "source": [
    "### Scikitlearn Classifier - SVM"
   ]
  },
  {
   "cell_type": "code",
   "execution_count": 420,
   "metadata": {},
   "outputs": [
    {
     "name": "stdout",
     "output_type": "stream",
     "text": [
      "accuracy: 0.7664\n",
      "accuracy: 0.7424\n",
      "accuracy: 0.7544\n",
      "accuracy: 0.712\n",
      "accuracy: 0.7373899119295436\n",
      "CV mean accuracy: 0.742517982386\n"
     ]
    }
   ],
   "source": [
    "from nltk.classify import SklearnClassifier\n",
    "from sklearn.svm import SVC\n",
    "k_fold = KFold(n_splits=5, shuffle=True)\n",
    "accu = []\n",
    "for train_idx, test_idx in k_fold.split(feat_desc):\n",
    "    train = [feat_desc[i] for i in train_idx]\n",
    "    test = [feat_desc[i] for i in test_idx]\n",
    "    classifier_sk = SklearnClassifier(SVC(kernel='linear', C=10, random_state=1), sparse=True).train(train)       \n",
    "    accu.append( nltk.classify.util.accuracy(classifier_sk, test) )\n",
    "    print('accuracy:', accu[len(accu)-1])    \n",
    "print('CV mean accuracy:', np.mean(accu))"
   ]
  },
  {
   "cell_type": "markdown",
   "metadata": {},
   "source": [
    "## Test Data creation"
   ]
  },
  {
   "cell_type": "code",
   "execution_count": 421,
   "metadata": {
    "collapsed": true
   },
   "outputs": [],
   "source": [
    "from nltk.corpus import stopwords\n",
    "from nltk.stem import PorterStemmer\n",
    "import string\n",
    "ps = PorterStemmer()\n",
    "from nltk.tokenize import word_tokenize\n",
    "import nltk\n",
    "def preprocess(text):\n",
    "    return [ps.stem(w) for w in word_tokenize(text.lower()) \n",
    "             if w not in string.punctuation and w not in stopwords.words('english')] "
   ]
  },
  {
   "cell_type": "code",
   "execution_count": 422,
   "metadata": {},
   "outputs": [
    {
     "data": {
      "text/html": [
       "<div>\n",
       "<style>\n",
       "    .dataframe thead tr:only-child th {\n",
       "        text-align: right;\n",
       "    }\n",
       "\n",
       "    .dataframe thead th {\n",
       "        text-align: left;\n",
       "    }\n",
       "\n",
       "    .dataframe tbody tr th {\n",
       "        vertical-align: top;\n",
       "    }\n",
       "</style>\n",
       "<table border=\"1\" class=\"dataframe\">\n",
       "  <thead>\n",
       "    <tr style=\"text-align: right;\">\n",
       "      <th></th>\n",
       "      <th>description</th>\n",
       "    </tr>\n",
       "  </thead>\n",
       "  <tbody>\n",
       "    <tr>\n",
       "      <th>0</th>\n",
       "      <td>I am one of Self-employed person having more t...</td>\n",
       "    </tr>\n",
       "    <tr>\n",
       "      <th>1</th>\n",
       "      <td>i am sehrish warraich.I do my job sincerelly a...</td>\n",
       "    </tr>\n",
       "    <tr>\n",
       "      <th>2</th>\n",
       "      <td>Since 2006, Web based solution provider (Web e...</td>\n",
       "    </tr>\n",
       "    <tr>\n",
       "      <th>3</th>\n",
       "      <td>Founder of  a geolocation service developed on...</td>\n",
       "    </tr>\n",
       "    <tr>\n",
       "      <th>4</th>\n",
       "      <td>Me? I am Jimmy, meaning honest, courageous, or...</td>\n",
       "    </tr>\n",
       "  </tbody>\n",
       "</table>\n",
       "</div>"
      ],
      "text/plain": [
       "                                         description\n",
       "0  I am one of Self-employed person having more t...\n",
       "1  i am sehrish warraich.I do my job sincerelly a...\n",
       "2  Since 2006, Web based solution provider (Web e...\n",
       "3  Founder of  a geolocation service developed on...\n",
       "4  Me? I am Jimmy, meaning honest, courageous, or..."
      ]
     },
     "execution_count": 422,
     "metadata": {},
     "output_type": "execute_result"
    }
   ],
   "source": [
    "#preprocess(train['description'][0])\n",
    "#test_desc['gender_tst'] = test_desc.apply(lambda _: '', axis=1)\n",
    "test_df = test_desc[['description']]\n",
    "test_df.head()"
   ]
  },
  {
   "cell_type": "code",
   "execution_count": 423,
   "metadata": {
    "collapsed": true
   },
   "outputs": [],
   "source": [
    "# To preprocess the description by tokenizing, removing stop words,punctuations and using equivalent stem words\n",
    "description_tst = list(test_df['description'])\n",
    "tmp_test = []\n",
    "for t in description_tst:\n",
    "     tmp_test.append(preprocess(t))"
   ]
  },
  {
   "cell_type": "code",
   "execution_count": 424,
   "metadata": {},
   "outputs": [
    {
     "name": "stdout",
     "output_type": "stream",
     "text": [
      "Before: 20142 , after: 5820\n"
     ]
    },
    {
     "data": {
      "text/plain": [
       "[FreqDist({'16': 1,\n",
       "           'articl': 1,\n",
       "           'blog': 1,\n",
       "           'busi': 1,\n",
       "           'comput': 2,\n",
       "           'correspond': 1,\n",
       "           'design': 1,\n",
       "           'develop': 2,\n",
       "           'etc': 1,\n",
       "           'experi': 1,\n",
       "           'one': 1,\n",
       "           'page': 2,\n",
       "           'person': 1,\n",
       "           'program': 1,\n",
       "           'self-employ': 1,\n",
       "           'softwar': 1,\n",
       "           'web': 2,\n",
       "           'write': 1,\n",
       "           'year': 1}),\n",
       " FreqDist({'better': 2,\n",
       "           'data': 1,\n",
       "           'entri': 1,\n",
       "           'experienc': 1,\n",
       "           'job': 2,\n",
       "           'mission': 1,\n",
       "           'next': 1,\n",
       "           'one.i': 1,\n",
       "           'previou': 1,\n",
       "           'submit': 1,\n",
       "           'time': 1})]"
      ]
     },
     "execution_count": 424,
     "metadata": {},
     "output_type": "execute_result"
    }
   ],
   "source": [
    "# Flattening the data\n",
    "all_words_tst = [w for words in tmp_test for w in words]\n",
    "len(all_words_tst)\n",
    "\n",
    "import nltk\n",
    "words_freq_tst = nltk.FreqDist(all_words_tst)\n",
    "\n",
    "selected_words_tst = [word for word, freq in words_freq_tst.items() if freq>1]\n",
    "print('Before:',len(words_freq_tst), ', after:', len(selected_words_tst))\n",
    "\n",
    "token_data = [([w for w in words if w in selected_words]) for words in tmp_test]\n",
    "\n",
    "def extract_features(words, selected_words):\n",
    "    ''' simply using words counts'''\n",
    "    return nltk.FreqDist([w for w in words if w in selected_words_tst])\n",
    "\n",
    "feat_tst = [(extract_features(words,selected_words_tst)) for words in tmp_test]\n",
    "\n",
    "feat_tst[:2]"
   ]
  },
  {
   "cell_type": "markdown",
   "metadata": {},
   "source": [
    "### Testing the data"
   ]
  },
  {
   "cell_type": "code",
   "execution_count": 425,
   "metadata": {
    "collapsed": true
   },
   "outputs": [],
   "source": [
    "#accuracy with sklearn\n",
    "from nltk.corpus import stopwords\n",
    "from nltk.stem import PorterStemmer\n",
    "import string\n",
    "ps = PorterStemmer()\n",
    "from nltk.tokenize import word_tokenize\n",
    "import nltk"
   ]
  },
  {
   "cell_type": "markdown",
   "metadata": {},
   "source": [
    "### Predicting data using Naive bayes classifier"
   ]
  },
  {
   "cell_type": "code",
   "execution_count": 426,
   "metadata": {
    "collapsed": true
   },
   "outputs": [],
   "source": [
    "#creating the list of predictions\n",
    "feat_only = [(extract_features(words,selected_words_tst)) for words in tmp_test]\n",
    "pred = [classifier.classify(row) for row in feat_only]"
   ]
  },
  {
   "cell_type": "code",
   "execution_count": 427,
   "metadata": {
    "collapsed": true
   },
   "outputs": [],
   "source": [
    "# support your predictions are stored in a list named pred_uname\n",
    "zz = pd.DataFrame({'username':test_desc['username'],'description':test_desc['description'], 'prediction':pred})\n",
    "zz.to_csv('pred_desc_nb1.csv', index=False)"
   ]
  },
  {
   "cell_type": "markdown",
   "metadata": {},
   "source": [
    "### Predicting using Maximum Enropy classifier"
   ]
  },
  {
   "cell_type": "code",
   "execution_count": 428,
   "metadata": {
    "collapsed": true
   },
   "outputs": [],
   "source": [
    "#creating the list of predictions\n",
    "feat_only = [(extract_features(words,selected_words_tst)) for words in tmp_test]\n",
    "pred_MEC = [classifier2_me.classify(row) for row in feat_only]"
   ]
  },
  {
   "cell_type": "code",
   "execution_count": 429,
   "metadata": {
    "collapsed": true
   },
   "outputs": [],
   "source": [
    "# support your predictions are stored in a list named pred_uname\n",
    "zz = pd.DataFrame({'username':test_desc['username'],'description':test_desc['description'], 'prediction':pred_SVM_SK})\n",
    "zz.to_csv('pred_desc_entropy.csv', index=False)"
   ]
  },
  {
   "cell_type": "markdown",
   "metadata": {},
   "source": [
    "### Predicting using SVM-Scikitlearn"
   ]
  },
  {
   "cell_type": "code",
   "execution_count": 430,
   "metadata": {
    "collapsed": true
   },
   "outputs": [],
   "source": [
    "#creating the list of predictions\n",
    "feat_only = [(extract_features(words,selected_words_tst)) for words in tmp_test]\n",
    "pred_SVM_SK = [classifier_sk.classify(row) for row in feat_only]"
   ]
  },
  {
   "cell_type": "code",
   "execution_count": 431,
   "metadata": {
    "collapsed": true
   },
   "outputs": [],
   "source": [
    "# support your predictions are stored in a list named pred_uname\n",
    "zz = pd.DataFrame({'username':test_desc['username'],'description':test_desc['description'], 'prediction':pred_SVM_SK})\n",
    "zz.to_csv('pred_desc_svm.csv', index=False)"
   ]
  },
  {
   "cell_type": "markdown",
   "metadata": {},
   "source": [
    "## 3. Predicting Gender with Username, Description, and Status\n",
    "If you need to merge multiple dict-format features into one, check the following question: https://stackoverflow.com/questions/38987/how-to-merge-two-dictionaries-in-a-single-expression"
   ]
  },
  {
   "cell_type": "code",
   "execution_count": 432,
   "metadata": {
    "collapsed": true
   },
   "outputs": [],
   "source": [
    "# Parse Json format status as dictionary\n",
    "from ast import literal_eval\n",
    "train = pd.read_csv('train.csv')\n",
    "test = pd.read_csv('test.csv')\n",
    "status = train['status'].apply(literal_eval)"
   ]
  },
  {
   "cell_type": "code",
   "execution_count": 433,
   "metadata": {},
   "outputs": [
    {
     "data": {
      "text/html": [
       "<div>\n",
       "<style>\n",
       "    .dataframe thead tr:only-child th {\n",
       "        text-align: right;\n",
       "    }\n",
       "\n",
       "    .dataframe thead th {\n",
       "        text-align: left;\n",
       "    }\n",
       "\n",
       "    .dataframe tbody tr th {\n",
       "        vertical-align: top;\n",
       "    }\n",
       "</style>\n",
       "<table border=\"1\" class=\"dataframe\">\n",
       "  <thead>\n",
       "    <tr style=\"text-align: right;\">\n",
       "      <th></th>\n",
       "      <th>deposit_made</th>\n",
       "      <th>email_verified</th>\n",
       "      <th>facebook_connected</th>\n",
       "      <th>identity_verified</th>\n",
       "      <th>payment_verified</th>\n",
       "      <th>phone_verified</th>\n",
       "      <th>profile_complete</th>\n",
       "    </tr>\n",
       "  </thead>\n",
       "  <tbody>\n",
       "    <tr>\n",
       "      <th>0</th>\n",
       "      <td>True</td>\n",
       "      <td>True</td>\n",
       "      <td>False</td>\n",
       "      <td>False</td>\n",
       "      <td>False</td>\n",
       "      <td>False</td>\n",
       "      <td>True</td>\n",
       "    </tr>\n",
       "    <tr>\n",
       "      <th>1</th>\n",
       "      <td>True</td>\n",
       "      <td>True</td>\n",
       "      <td>True</td>\n",
       "      <td>False</td>\n",
       "      <td>True</td>\n",
       "      <td>False</td>\n",
       "      <td>True</td>\n",
       "    </tr>\n",
       "    <tr>\n",
       "      <th>2</th>\n",
       "      <td>False</td>\n",
       "      <td>True</td>\n",
       "      <td>False</td>\n",
       "      <td>False</td>\n",
       "      <td>False</td>\n",
       "      <td>False</td>\n",
       "      <td>True</td>\n",
       "    </tr>\n",
       "    <tr>\n",
       "      <th>3</th>\n",
       "      <td>True</td>\n",
       "      <td>True</td>\n",
       "      <td>False</td>\n",
       "      <td>False</td>\n",
       "      <td>False</td>\n",
       "      <td>True</td>\n",
       "      <td>True</td>\n",
       "    </tr>\n",
       "    <tr>\n",
       "      <th>4</th>\n",
       "      <td>False</td>\n",
       "      <td>True</td>\n",
       "      <td>False</td>\n",
       "      <td>False</td>\n",
       "      <td>False</td>\n",
       "      <td>False</td>\n",
       "      <td>True</td>\n",
       "    </tr>\n",
       "  </tbody>\n",
       "</table>\n",
       "</div>"
      ],
      "text/plain": [
       "   deposit_made  email_verified  facebook_connected  identity_verified  \\\n",
       "0          True            True               False              False   \n",
       "1          True            True                True              False   \n",
       "2         False            True               False              False   \n",
       "3          True            True               False              False   \n",
       "4         False            True               False              False   \n",
       "\n",
       "   payment_verified  phone_verified  profile_complete  \n",
       "0             False           False              True  \n",
       "1              True           False              True  \n",
       "2             False           False              True  \n",
       "3             False            True              True  \n",
       "4             False           False              True  "
      ]
     },
     "execution_count": 433,
     "metadata": {},
     "output_type": "execute_result"
    }
   ],
   "source": [
    "# Now you need to find a way to split the dictionary format status as multiple columns\n",
    "status=status.apply(pd.Series)\n",
    "status.head()"
   ]
  },
  {
   "cell_type": "code",
   "execution_count": 434,
   "metadata": {},
   "outputs": [
    {
     "data": {
      "text/plain": [
       "Index(['username', 'gender', 'status', 'description'], dtype='object')"
      ]
     },
     "execution_count": 434,
     "metadata": {},
     "output_type": "execute_result"
    }
   ],
   "source": [
    "train.columns"
   ]
  },
  {
   "cell_type": "markdown",
   "metadata": {},
   "source": [
    "### To create Features using username"
   ]
  },
  {
   "cell_type": "code",
   "execution_count": 435,
   "metadata": {
    "collapsed": true
   },
   "outputs": [],
   "source": [
    "# Feature for 1st work being capital letter\n",
    "gender_capital = []\n",
    "for word in train['username']:\n",
    "        if word[0].isupper() == True:\n",
    "            gender_capital.append(1)\n",
    "        else: gender_capital.append(0)\n",
    "\n",
    "se = pd.Series(gender_capital)\n",
    "train['Capital_Letter'] = se.values\n",
    "\n",
    "#Feature to verify if username has digits\n",
    "gender_digit = []\n",
    "for word in train['username']:\n",
    "       # if word[0].isdigit() == True:\n",
    "        if any(i.isdigit() for i in word) == True:\n",
    "            gender_digit.append(1)\n",
    "        else: gender_digit.append(0)\n",
    "gender_digit[:10]    \n",
    "dig = pd.Series(gender_digit)\n",
    "train['Hasdigit'] = dig.values\n",
    "\n",
    "#Feature to calculate the legth of characters\n",
    "gender_charlen = []\n",
    "for word in train['username']:\n",
    "      \n",
    "        gender_charlen.append( len(word) - sum(c.isdigit() for c in word))\n",
    "\n",
    "clen = pd.Series(gender_charlen)\n",
    "train['charlen'] = clen.values\n",
    "\n",
    "#Feature to calculate the count of vowels\n",
    "gender_vowlen = []\n",
    "for word in train['username']:\n",
    "      \n",
    "        gender_vowlen.append(sum([1 for char in ''.join(word) if char in 'aeiouAEIOU']))\n",
    "\n",
    "vlen = pd.Series(gender_vowlen)\n",
    "train['vowlen'] = vlen.values\n",
    "\n",
    "#Feature to calculate the count of vowels\n",
    "gender_vowlen = []\n",
    "for word in train['username']:\n",
    "      \n",
    "        gender_vowlen.append(sum([1 for char in ''.join(word) if char in 'aeiouAEIOU']))\n",
    "            \n",
    "vlen = pd.Series(gender_vowlen)\n",
    "train['vowlen'] = vlen.values\n",
    "\n",
    "#code to identify last letter and 1st letter in the text\n",
    "gender_firstletter = []\n",
    "gender_lastletter = []\n",
    "for word in train['username']:\n",
    "      \n",
    "        gender_firstletter.append(word[0])\n",
    "        gender_lastletter.append(word[-1])\n",
    "        \n",
    "fl = pd.Series(gender_firstletter)\n",
    "train['firstletter'] = fl.values\n",
    "\n",
    "ll = pd.Series(gender_lastletter)\n",
    "train['lastletter'] = ll.values\n",
    "\n",
    "# To encode the gender column (target variable) to run models\n",
    "train['gender'] = lb.fit_transform(train['gender'].values)\n",
    "#feat.gender.value_counts()\n",
    "\n",
    "#Encoding first letter and last letter of the column to avoid categorical values in the dataset\n",
    "train['firstletter'] = lb.fit_transform(train['firstletter'].values)\n",
    "train['lastletter'] = lb.fit_transform(train['lastletter'].values)"
   ]
  },
  {
   "cell_type": "code",
   "execution_count": 436,
   "metadata": {},
   "outputs": [
    {
     "data": {
      "text/html": [
       "<div>\n",
       "<style>\n",
       "    .dataframe thead tr:only-child th {\n",
       "        text-align: right;\n",
       "    }\n",
       "\n",
       "    .dataframe thead th {\n",
       "        text-align: left;\n",
       "    }\n",
       "\n",
       "    .dataframe tbody tr th {\n",
       "        vertical-align: top;\n",
       "    }\n",
       "</style>\n",
       "<table border=\"1\" class=\"dataframe\">\n",
       "  <thead>\n",
       "    <tr style=\"text-align: right;\">\n",
       "      <th></th>\n",
       "      <th>username</th>\n",
       "      <th>gender</th>\n",
       "      <th>status</th>\n",
       "      <th>description</th>\n",
       "      <th>Capital_Letter</th>\n",
       "      <th>Hasdigit</th>\n",
       "      <th>charlen</th>\n",
       "      <th>vowlen</th>\n",
       "      <th>firstletter</th>\n",
       "      <th>lastletter</th>\n",
       "      <th>deposit_made</th>\n",
       "      <th>email_verified</th>\n",
       "      <th>facebook_connected</th>\n",
       "      <th>identity_verified</th>\n",
       "      <th>payment_verified</th>\n",
       "      <th>phone_verified</th>\n",
       "      <th>profile_complete</th>\n",
       "    </tr>\n",
       "  </thead>\n",
       "  <tbody>\n",
       "    <tr>\n",
       "      <th>0</th>\n",
       "      <td>Vimal20011</td>\n",
       "      <td>1</td>\n",
       "      <td>{u'payment_verified': False, u'identity_verifi...</td>\n",
       "      <td>A team of 5 working on various projects relate...</td>\n",
       "      <td>1</td>\n",
       "      <td>1</td>\n",
       "      <td>5</td>\n",
       "      <td>2</td>\n",
       "      <td>21</td>\n",
       "      <td>1</td>\n",
       "      <td>True</td>\n",
       "      <td>True</td>\n",
       "      <td>False</td>\n",
       "      <td>False</td>\n",
       "      <td>False</td>\n",
       "      <td>False</td>\n",
       "      <td>True</td>\n",
       "    </tr>\n",
       "    <tr>\n",
       "      <th>1</th>\n",
       "      <td>sheom</td>\n",
       "      <td>1</td>\n",
       "      <td>{u'payment_verified': True, u'identity_verifie...</td>\n",
       "      <td>We are an IT solution and service provider com...</td>\n",
       "      <td>0</td>\n",
       "      <td>0</td>\n",
       "      <td>5</td>\n",
       "      <td>2</td>\n",
       "      <td>44</td>\n",
       "      <td>47</td>\n",
       "      <td>True</td>\n",
       "      <td>True</td>\n",
       "      <td>True</td>\n",
       "      <td>False</td>\n",
       "      <td>True</td>\n",
       "      <td>False</td>\n",
       "      <td>True</td>\n",
       "    </tr>\n",
       "    <tr>\n",
       "      <th>2</th>\n",
       "      <td>ezbik</td>\n",
       "      <td>1</td>\n",
       "      <td>{u'payment_verified': False, u'identity_verifi...</td>\n",
       "      <td>System administration is my work &amp; hobby.</td>\n",
       "      <td>0</td>\n",
       "      <td>0</td>\n",
       "      <td>5</td>\n",
       "      <td>2</td>\n",
       "      <td>30</td>\n",
       "      <td>45</td>\n",
       "      <td>False</td>\n",
       "      <td>True</td>\n",
       "      <td>False</td>\n",
       "      <td>False</td>\n",
       "      <td>False</td>\n",
       "      <td>False</td>\n",
       "      <td>True</td>\n",
       "    </tr>\n",
       "    <tr>\n",
       "      <th>3</th>\n",
       "      <td>angelme</td>\n",
       "      <td>0</td>\n",
       "      <td>{u'payment_verified': False, u'identity_verifi...</td>\n",
       "      <td>Good day! Thank you for taking some time to ch...</td>\n",
       "      <td>0</td>\n",
       "      <td>0</td>\n",
       "      <td>7</td>\n",
       "      <td>3</td>\n",
       "      <td>26</td>\n",
       "      <td>39</td>\n",
       "      <td>True</td>\n",
       "      <td>True</td>\n",
       "      <td>False</td>\n",
       "      <td>False</td>\n",
       "      <td>False</td>\n",
       "      <td>True</td>\n",
       "      <td>True</td>\n",
       "    </tr>\n",
       "    <tr>\n",
       "      <th>4</th>\n",
       "      <td>snitch1</td>\n",
       "      <td>1</td>\n",
       "      <td>{u'payment_verified': False, u'identity_verifi...</td>\n",
       "      <td>I build good relation with clients and deliver...</td>\n",
       "      <td>0</td>\n",
       "      <td>1</td>\n",
       "      <td>6</td>\n",
       "      <td>1</td>\n",
       "      <td>44</td>\n",
       "      <td>1</td>\n",
       "      <td>False</td>\n",
       "      <td>True</td>\n",
       "      <td>False</td>\n",
       "      <td>False</td>\n",
       "      <td>False</td>\n",
       "      <td>False</td>\n",
       "      <td>True</td>\n",
       "    </tr>\n",
       "  </tbody>\n",
       "</table>\n",
       "</div>"
      ],
      "text/plain": [
       "     username  gender                                             status  \\\n",
       "0  Vimal20011       1  {u'payment_verified': False, u'identity_verifi...   \n",
       "1       sheom       1  {u'payment_verified': True, u'identity_verifie...   \n",
       "2       ezbik       1  {u'payment_verified': False, u'identity_verifi...   \n",
       "3     angelme       0  {u'payment_verified': False, u'identity_verifi...   \n",
       "4     snitch1       1  {u'payment_verified': False, u'identity_verifi...   \n",
       "\n",
       "                                         description  Capital_Letter  \\\n",
       "0  A team of 5 working on various projects relate...               1   \n",
       "1  We are an IT solution and service provider com...               0   \n",
       "2          System administration is my work & hobby.               0   \n",
       "3  Good day! Thank you for taking some time to ch...               0   \n",
       "4  I build good relation with clients and deliver...               0   \n",
       "\n",
       "   Hasdigit  charlen  vowlen  firstletter  lastletter  deposit_made  \\\n",
       "0         1        5       2           21           1          True   \n",
       "1         0        5       2           44          47          True   \n",
       "2         0        5       2           30          45         False   \n",
       "3         0        7       3           26          39          True   \n",
       "4         1        6       1           44           1         False   \n",
       "\n",
       "   email_verified  facebook_connected  identity_verified  payment_verified  \\\n",
       "0            True               False              False             False   \n",
       "1            True                True              False              True   \n",
       "2            True               False              False             False   \n",
       "3            True               False              False             False   \n",
       "4            True               False              False             False   \n",
       "\n",
       "   phone_verified  profile_complete  \n",
       "0           False              True  \n",
       "1           False              True  \n",
       "2           False              True  \n",
       "3            True              True  \n",
       "4           False              True  "
      ]
     },
     "execution_count": 436,
     "metadata": {},
     "output_type": "execute_result"
    }
   ],
   "source": [
    "train_merge = pd.concat([train,status],axis = 1)\n",
    "train_merge.head()"
   ]
  },
  {
   "cell_type": "markdown",
   "metadata": {},
   "source": [
    "### To encode the boolean values from statis column to binary"
   ]
  },
  {
   "cell_type": "code",
   "execution_count": 437,
   "metadata": {
    "collapsed": true
   },
   "outputs": [],
   "source": [
    "#Encoding\n",
    "from sklearn.preprocessing import LabelEncoder"
   ]
  },
  {
   "cell_type": "code",
   "execution_count": 438,
   "metadata": {
    "collapsed": true
   },
   "outputs": [],
   "source": [
    "lb = LabelEncoder()"
   ]
  },
  {
   "cell_type": "code",
   "execution_count": 439,
   "metadata": {
    "collapsed": true
   },
   "outputs": [],
   "source": [
    "train_merge['firstletter'] = lb.fit_transform(train_merge['firstletter'].values)\n",
    "train_merge['lastletter'] = lb.fit_transform(train_merge['lastletter'].values)\n",
    "train_merge['deposit_made'] = lb.fit_transform(train_merge['deposit_made'].values)\n",
    "train_merge['email_verified'] = lb.fit_transform(train_merge['email_verified'].values)\n",
    "train_merge['facebook_connected'] = lb.fit_transform(train_merge['facebook_connected'].values)\n",
    "train_merge['identity_verified'] = lb.fit_transform(train_merge['identity_verified'].values)\n",
    "train_merge['payment_verified'] = lb.fit_transform(train_merge['payment_verified'].values)\n",
    "train_merge['phone_verified'] = lb.fit_transform(train_merge['phone_verified'].values)\n",
    "train_merge['profile_complete'] = lb.fit_transform(train_merge['profile_complete'].values)"
   ]
  },
  {
   "cell_type": "code",
   "execution_count": 440,
   "metadata": {},
   "outputs": [
    {
     "data": {
      "text/html": [
       "<div>\n",
       "<style>\n",
       "    .dataframe thead tr:only-child th {\n",
       "        text-align: right;\n",
       "    }\n",
       "\n",
       "    .dataframe thead th {\n",
       "        text-align: left;\n",
       "    }\n",
       "\n",
       "    .dataframe tbody tr th {\n",
       "        vertical-align: top;\n",
       "    }\n",
       "</style>\n",
       "<table border=\"1\" class=\"dataframe\">\n",
       "  <thead>\n",
       "    <tr style=\"text-align: right;\">\n",
       "      <th></th>\n",
       "      <th>username</th>\n",
       "      <th>gender</th>\n",
       "      <th>status</th>\n",
       "      <th>description</th>\n",
       "      <th>Capital_Letter</th>\n",
       "      <th>Hasdigit</th>\n",
       "      <th>charlen</th>\n",
       "      <th>vowlen</th>\n",
       "      <th>firstletter</th>\n",
       "      <th>lastletter</th>\n",
       "      <th>deposit_made</th>\n",
       "      <th>email_verified</th>\n",
       "      <th>facebook_connected</th>\n",
       "      <th>identity_verified</th>\n",
       "      <th>payment_verified</th>\n",
       "      <th>phone_verified</th>\n",
       "      <th>profile_complete</th>\n",
       "    </tr>\n",
       "  </thead>\n",
       "  <tbody>\n",
       "    <tr>\n",
       "      <th>0</th>\n",
       "      <td>Vimal20011</td>\n",
       "      <td>1</td>\n",
       "      <td>{u'payment_verified': False, u'identity_verifi...</td>\n",
       "      <td>A team of 5 working on various projects relate...</td>\n",
       "      <td>1</td>\n",
       "      <td>1</td>\n",
       "      <td>5</td>\n",
       "      <td>2</td>\n",
       "      <td>21</td>\n",
       "      <td>1</td>\n",
       "      <td>1</td>\n",
       "      <td>1</td>\n",
       "      <td>0</td>\n",
       "      <td>0</td>\n",
       "      <td>0</td>\n",
       "      <td>0</td>\n",
       "      <td>0</td>\n",
       "    </tr>\n",
       "    <tr>\n",
       "      <th>1</th>\n",
       "      <td>sheom</td>\n",
       "      <td>1</td>\n",
       "      <td>{u'payment_verified': True, u'identity_verifie...</td>\n",
       "      <td>We are an IT solution and service provider com...</td>\n",
       "      <td>0</td>\n",
       "      <td>0</td>\n",
       "      <td>5</td>\n",
       "      <td>2</td>\n",
       "      <td>44</td>\n",
       "      <td>47</td>\n",
       "      <td>1</td>\n",
       "      <td>1</td>\n",
       "      <td>1</td>\n",
       "      <td>0</td>\n",
       "      <td>1</td>\n",
       "      <td>0</td>\n",
       "      <td>0</td>\n",
       "    </tr>\n",
       "    <tr>\n",
       "      <th>2</th>\n",
       "      <td>ezbik</td>\n",
       "      <td>1</td>\n",
       "      <td>{u'payment_verified': False, u'identity_verifi...</td>\n",
       "      <td>System administration is my work &amp; hobby.</td>\n",
       "      <td>0</td>\n",
       "      <td>0</td>\n",
       "      <td>5</td>\n",
       "      <td>2</td>\n",
       "      <td>30</td>\n",
       "      <td>45</td>\n",
       "      <td>0</td>\n",
       "      <td>1</td>\n",
       "      <td>0</td>\n",
       "      <td>0</td>\n",
       "      <td>0</td>\n",
       "      <td>0</td>\n",
       "      <td>0</td>\n",
       "    </tr>\n",
       "    <tr>\n",
       "      <th>3</th>\n",
       "      <td>angelme</td>\n",
       "      <td>0</td>\n",
       "      <td>{u'payment_verified': False, u'identity_verifi...</td>\n",
       "      <td>Good day! Thank you for taking some time to ch...</td>\n",
       "      <td>0</td>\n",
       "      <td>0</td>\n",
       "      <td>7</td>\n",
       "      <td>3</td>\n",
       "      <td>26</td>\n",
       "      <td>39</td>\n",
       "      <td>1</td>\n",
       "      <td>1</td>\n",
       "      <td>0</td>\n",
       "      <td>0</td>\n",
       "      <td>0</td>\n",
       "      <td>1</td>\n",
       "      <td>0</td>\n",
       "    </tr>\n",
       "    <tr>\n",
       "      <th>4</th>\n",
       "      <td>snitch1</td>\n",
       "      <td>1</td>\n",
       "      <td>{u'payment_verified': False, u'identity_verifi...</td>\n",
       "      <td>I build good relation with clients and deliver...</td>\n",
       "      <td>0</td>\n",
       "      <td>1</td>\n",
       "      <td>6</td>\n",
       "      <td>1</td>\n",
       "      <td>44</td>\n",
       "      <td>1</td>\n",
       "      <td>0</td>\n",
       "      <td>1</td>\n",
       "      <td>0</td>\n",
       "      <td>0</td>\n",
       "      <td>0</td>\n",
       "      <td>0</td>\n",
       "      <td>0</td>\n",
       "    </tr>\n",
       "    <tr>\n",
       "      <th>5</th>\n",
       "      <td>ehabdigitalart</td>\n",
       "      <td>1</td>\n",
       "      <td>{u'payment_verified': False, u'identity_verifi...</td>\n",
       "      <td>Over the last 12 years, I have developed a wid...</td>\n",
       "      <td>0</td>\n",
       "      <td>0</td>\n",
       "      <td>14</td>\n",
       "      <td>6</td>\n",
       "      <td>30</td>\n",
       "      <td>54</td>\n",
       "      <td>0</td>\n",
       "      <td>1</td>\n",
       "      <td>1</td>\n",
       "      <td>0</td>\n",
       "      <td>0</td>\n",
       "      <td>0</td>\n",
       "      <td>0</td>\n",
       "    </tr>\n",
       "    <tr>\n",
       "      <th>6</th>\n",
       "      <td>laarniandbuboy</td>\n",
       "      <td>0</td>\n",
       "      <td>{u'payment_verified': False, u'identity_verifi...</td>\n",
       "      <td>WORK EXPERIENCESTraining SupervisorDirect Resp...</td>\n",
       "      <td>0</td>\n",
       "      <td>0</td>\n",
       "      <td>14</td>\n",
       "      <td>6</td>\n",
       "      <td>37</td>\n",
       "      <td>59</td>\n",
       "      <td>0</td>\n",
       "      <td>1</td>\n",
       "      <td>0</td>\n",
       "      <td>0</td>\n",
       "      <td>0</td>\n",
       "      <td>0</td>\n",
       "      <td>0</td>\n",
       "    </tr>\n",
       "    <tr>\n",
       "      <th>7</th>\n",
       "      <td>payzone</td>\n",
       "      <td>1</td>\n",
       "      <td>{u'payment_verified': False, u'identity_verifi...</td>\n",
       "      <td>i'm graduate from engineering chemical faculty...</td>\n",
       "      <td>0</td>\n",
       "      <td>0</td>\n",
       "      <td>7</td>\n",
       "      <td>3</td>\n",
       "      <td>41</td>\n",
       "      <td>39</td>\n",
       "      <td>0</td>\n",
       "      <td>1</td>\n",
       "      <td>0</td>\n",
       "      <td>0</td>\n",
       "      <td>0</td>\n",
       "      <td>0</td>\n",
       "      <td>0</td>\n",
       "    </tr>\n",
       "    <tr>\n",
       "      <th>8</th>\n",
       "      <td>istratebogdan</td>\n",
       "      <td>1</td>\n",
       "      <td>{u'payment_verified': False, u'identity_verifi...</td>\n",
       "      <td>Name: Istrate Bogdan PetrusNationality: Romani...</td>\n",
       "      <td>0</td>\n",
       "      <td>0</td>\n",
       "      <td>13</td>\n",
       "      <td>5</td>\n",
       "      <td>34</td>\n",
       "      <td>48</td>\n",
       "      <td>0</td>\n",
       "      <td>1</td>\n",
       "      <td>1</td>\n",
       "      <td>0</td>\n",
       "      <td>0</td>\n",
       "      <td>0</td>\n",
       "      <td>0</td>\n",
       "    </tr>\n",
       "    <tr>\n",
       "      <th>9</th>\n",
       "      <td>pam2489</td>\n",
       "      <td>0</td>\n",
       "      <td>{u'payment_verified': False, u'identity_verifi...</td>\n",
       "      <td>My goal is to create long-lasting relationship...</td>\n",
       "      <td>0</td>\n",
       "      <td>1</td>\n",
       "      <td>3</td>\n",
       "      <td>1</td>\n",
       "      <td>41</td>\n",
       "      <td>9</td>\n",
       "      <td>1</td>\n",
       "      <td>1</td>\n",
       "      <td>0</td>\n",
       "      <td>0</td>\n",
       "      <td>0</td>\n",
       "      <td>0</td>\n",
       "      <td>0</td>\n",
       "    </tr>\n",
       "  </tbody>\n",
       "</table>\n",
       "</div>"
      ],
      "text/plain": [
       "         username  gender                                             status  \\\n",
       "0      Vimal20011       1  {u'payment_verified': False, u'identity_verifi...   \n",
       "1           sheom       1  {u'payment_verified': True, u'identity_verifie...   \n",
       "2           ezbik       1  {u'payment_verified': False, u'identity_verifi...   \n",
       "3         angelme       0  {u'payment_verified': False, u'identity_verifi...   \n",
       "4         snitch1       1  {u'payment_verified': False, u'identity_verifi...   \n",
       "5  ehabdigitalart       1  {u'payment_verified': False, u'identity_verifi...   \n",
       "6  laarniandbuboy       0  {u'payment_verified': False, u'identity_verifi...   \n",
       "7         payzone       1  {u'payment_verified': False, u'identity_verifi...   \n",
       "8   istratebogdan       1  {u'payment_verified': False, u'identity_verifi...   \n",
       "9         pam2489       0  {u'payment_verified': False, u'identity_verifi...   \n",
       "\n",
       "                                         description  Capital_Letter  \\\n",
       "0  A team of 5 working on various projects relate...               1   \n",
       "1  We are an IT solution and service provider com...               0   \n",
       "2          System administration is my work & hobby.               0   \n",
       "3  Good day! Thank you for taking some time to ch...               0   \n",
       "4  I build good relation with clients and deliver...               0   \n",
       "5  Over the last 12 years, I have developed a wid...               0   \n",
       "6  WORK EXPERIENCESTraining SupervisorDirect Resp...               0   \n",
       "7  i'm graduate from engineering chemical faculty...               0   \n",
       "8  Name: Istrate Bogdan PetrusNationality: Romani...               0   \n",
       "9  My goal is to create long-lasting relationship...               0   \n",
       "\n",
       "   Hasdigit  charlen  vowlen  firstletter  lastletter  deposit_made  \\\n",
       "0         1        5       2           21           1             1   \n",
       "1         0        5       2           44          47             1   \n",
       "2         0        5       2           30          45             0   \n",
       "3         0        7       3           26          39             1   \n",
       "4         1        6       1           44           1             0   \n",
       "5         0       14       6           30          54             0   \n",
       "6         0       14       6           37          59             0   \n",
       "7         0        7       3           41          39             0   \n",
       "8         0       13       5           34          48             0   \n",
       "9         1        3       1           41           9             1   \n",
       "\n",
       "   email_verified  facebook_connected  identity_verified  payment_verified  \\\n",
       "0               1                   0                  0                 0   \n",
       "1               1                   1                  0                 1   \n",
       "2               1                   0                  0                 0   \n",
       "3               1                   0                  0                 0   \n",
       "4               1                   0                  0                 0   \n",
       "5               1                   1                  0                 0   \n",
       "6               1                   0                  0                 0   \n",
       "7               1                   0                  0                 0   \n",
       "8               1                   1                  0                 0   \n",
       "9               1                   0                  0                 0   \n",
       "\n",
       "   phone_verified  profile_complete  \n",
       "0               0                 0  \n",
       "1               0                 0  \n",
       "2               0                 0  \n",
       "3               1                 0  \n",
       "4               0                 0  \n",
       "5               0                 0  \n",
       "6               0                 0  \n",
       "7               0                 0  \n",
       "8               0                 0  \n",
       "9               0                 0  "
      ]
     },
     "execution_count": 440,
     "metadata": {},
     "output_type": "execute_result"
    }
   ],
   "source": [
    "train_merge.head(10)"
   ]
  },
  {
   "cell_type": "code",
   "execution_count": 441,
   "metadata": {},
   "outputs": [
    {
     "data": {
      "text/plain": [
       "Index(['username', 'gender', 'status', 'description', 'Capital_Letter',\n",
       "       'Hasdigit', 'charlen', 'vowlen', 'firstletter', 'lastletter',\n",
       "       'deposit_made', 'email_verified', 'facebook_connected',\n",
       "       'identity_verified', 'payment_verified', 'phone_verified',\n",
       "       'profile_complete'],\n",
       "      dtype='object')"
      ]
     },
     "execution_count": 441,
     "metadata": {},
     "output_type": "execute_result"
    }
   ],
   "source": [
    "##Convert dataframe into a dictionary\n",
    "train_merge.columns"
   ]
  },
  {
   "cell_type": "code",
   "execution_count": 442,
   "metadata": {
    "collapsed": true
   },
   "outputs": [],
   "source": [
    "gender2 = list(train_merge['gender'])\n",
    "train_merge1 = train_merge.drop(['username','status','description','gender'],axis=1)"
   ]
  },
  {
   "cell_type": "code",
   "execution_count": 443,
   "metadata": {},
   "outputs": [
    {
     "data": {
      "text/html": [
       "<div>\n",
       "<style>\n",
       "    .dataframe thead tr:only-child th {\n",
       "        text-align: right;\n",
       "    }\n",
       "\n",
       "    .dataframe thead th {\n",
       "        text-align: left;\n",
       "    }\n",
       "\n",
       "    .dataframe tbody tr th {\n",
       "        vertical-align: top;\n",
       "    }\n",
       "</style>\n",
       "<table border=\"1\" class=\"dataframe\">\n",
       "  <thead>\n",
       "    <tr style=\"text-align: right;\">\n",
       "      <th></th>\n",
       "      <th>Capital_Letter</th>\n",
       "      <th>Hasdigit</th>\n",
       "      <th>charlen</th>\n",
       "      <th>vowlen</th>\n",
       "      <th>firstletter</th>\n",
       "      <th>lastletter</th>\n",
       "      <th>deposit_made</th>\n",
       "      <th>email_verified</th>\n",
       "      <th>facebook_connected</th>\n",
       "      <th>identity_verified</th>\n",
       "      <th>payment_verified</th>\n",
       "      <th>phone_verified</th>\n",
       "      <th>profile_complete</th>\n",
       "    </tr>\n",
       "  </thead>\n",
       "  <tbody>\n",
       "    <tr>\n",
       "      <th>0</th>\n",
       "      <td>1</td>\n",
       "      <td>1</td>\n",
       "      <td>5</td>\n",
       "      <td>2</td>\n",
       "      <td>21</td>\n",
       "      <td>1</td>\n",
       "      <td>1</td>\n",
       "      <td>1</td>\n",
       "      <td>0</td>\n",
       "      <td>0</td>\n",
       "      <td>0</td>\n",
       "      <td>0</td>\n",
       "      <td>0</td>\n",
       "    </tr>\n",
       "    <tr>\n",
       "      <th>1</th>\n",
       "      <td>0</td>\n",
       "      <td>0</td>\n",
       "      <td>5</td>\n",
       "      <td>2</td>\n",
       "      <td>44</td>\n",
       "      <td>47</td>\n",
       "      <td>1</td>\n",
       "      <td>1</td>\n",
       "      <td>1</td>\n",
       "      <td>0</td>\n",
       "      <td>1</td>\n",
       "      <td>0</td>\n",
       "      <td>0</td>\n",
       "    </tr>\n",
       "    <tr>\n",
       "      <th>2</th>\n",
       "      <td>0</td>\n",
       "      <td>0</td>\n",
       "      <td>5</td>\n",
       "      <td>2</td>\n",
       "      <td>30</td>\n",
       "      <td>45</td>\n",
       "      <td>0</td>\n",
       "      <td>1</td>\n",
       "      <td>0</td>\n",
       "      <td>0</td>\n",
       "      <td>0</td>\n",
       "      <td>0</td>\n",
       "      <td>0</td>\n",
       "    </tr>\n",
       "    <tr>\n",
       "      <th>3</th>\n",
       "      <td>0</td>\n",
       "      <td>0</td>\n",
       "      <td>7</td>\n",
       "      <td>3</td>\n",
       "      <td>26</td>\n",
       "      <td>39</td>\n",
       "      <td>1</td>\n",
       "      <td>1</td>\n",
       "      <td>0</td>\n",
       "      <td>0</td>\n",
       "      <td>0</td>\n",
       "      <td>1</td>\n",
       "      <td>0</td>\n",
       "    </tr>\n",
       "    <tr>\n",
       "      <th>4</th>\n",
       "      <td>0</td>\n",
       "      <td>1</td>\n",
       "      <td>6</td>\n",
       "      <td>1</td>\n",
       "      <td>44</td>\n",
       "      <td>1</td>\n",
       "      <td>0</td>\n",
       "      <td>1</td>\n",
       "      <td>0</td>\n",
       "      <td>0</td>\n",
       "      <td>0</td>\n",
       "      <td>0</td>\n",
       "      <td>0</td>\n",
       "    </tr>\n",
       "  </tbody>\n",
       "</table>\n",
       "</div>"
      ],
      "text/plain": [
       "   Capital_Letter  Hasdigit  charlen  vowlen  firstletter  lastletter  \\\n",
       "0               1         1        5       2           21           1   \n",
       "1               0         0        5       2           44          47   \n",
       "2               0         0        5       2           30          45   \n",
       "3               0         0        7       3           26          39   \n",
       "4               0         1        6       1           44           1   \n",
       "\n",
       "   deposit_made  email_verified  facebook_connected  identity_verified  \\\n",
       "0             1               1                   0                  0   \n",
       "1             1               1                   1                  0   \n",
       "2             0               1                   0                  0   \n",
       "3             1               1                   0                  0   \n",
       "4             0               1                   0                  0   \n",
       "\n",
       "   payment_verified  phone_verified  profile_complete  \n",
       "0                 0               0                 0  \n",
       "1                 1               0                 0  \n",
       "2                 0               0                 0  \n",
       "3                 0               1                 0  \n",
       "4                 0               0                 0  "
      ]
     },
     "execution_count": 443,
     "metadata": {},
     "output_type": "execute_result"
    }
   ],
   "source": [
    "train_merge1.head()"
   ]
  },
  {
   "cell_type": "code",
   "execution_count": 444,
   "metadata": {},
   "outputs": [
    {
     "data": {
      "text/plain": [
       "Index(['Capital_Letter', 'Hasdigit', 'charlen', 'vowlen', 'firstletter',\n",
       "       'lastletter', 'deposit_made', 'email_verified', 'facebook_connected',\n",
       "       'identity_verified', 'payment_verified', 'phone_verified',\n",
       "       'profile_complete'],\n",
       "      dtype='object')"
      ]
     },
     "execution_count": 444,
     "metadata": {},
     "output_type": "execute_result"
    }
   ],
   "source": [
    "train_merge1.columns"
   ]
  },
  {
   "cell_type": "code",
   "execution_count": 445,
   "metadata": {},
   "outputs": [
    {
     "data": {
      "text/plain": [
       "[0, 0, 5, 2, 44, 47, 1, 1, 1, 0, 1, 0, 0]"
      ]
     },
     "execution_count": 445,
     "metadata": {},
     "output_type": "execute_result"
    }
   ],
   "source": [
    "list1 = train_merge1.values.tolist()\n",
    "list1[1]"
   ]
  },
  {
   "cell_type": "markdown",
   "metadata": {},
   "source": [
    "### To process the description column to token, remove stop words, punctuations and to take stepwords"
   ]
  },
  {
   "cell_type": "code",
   "execution_count": 446,
   "metadata": {
    "collapsed": true
   },
   "outputs": [],
   "source": [
    "description1 = list(train_df['description'])\n",
    "tmp1 = []\n",
    "for t in description1:\n",
    "    tmp1.append((preprocess(t)))"
   ]
  },
  {
   "cell_type": "code",
   "execution_count": 447,
   "metadata": {},
   "outputs": [
    {
     "data": {
      "text/plain": [
       "['solut',\n",
       " 'servic',\n",
       " 'provid',\n",
       " 'compani',\n",
       " 'expertis',\n",
       " 'e-learn',\n",
       " 'social',\n",
       " 'media',\n",
       " 'marketing.pleas',\n",
       " 'visit',\n",
       " 'compani',\n",
       " 'url',\n",
       " 'know']"
      ]
     },
     "execution_count": 447,
     "metadata": {},
     "output_type": "execute_result"
    }
   ],
   "source": [
    "tmp1[1]"
   ]
  },
  {
   "cell_type": "markdown",
   "metadata": {},
   "source": [
    "### To append the features created from username, description and status"
   ]
  },
  {
   "cell_type": "code",
   "execution_count": 448,
   "metadata": {},
   "outputs": [
    {
     "data": {
      "text/plain": [
       "[[1,\n",
       "  1,\n",
       "  5,\n",
       "  2,\n",
       "  21,\n",
       "  1,\n",
       "  1,\n",
       "  1,\n",
       "  0,\n",
       "  0,\n",
       "  0,\n",
       "  0,\n",
       "  0,\n",
       "  'team',\n",
       "  '5',\n",
       "  'work',\n",
       "  'variou',\n",
       "  'project',\n",
       "  'relat',\n",
       "  'data',\n",
       "  'entri',\n",
       "  'research',\n",
       "  'work',\n",
       "  'content',\n",
       "  'write']]"
      ]
     },
     "execution_count": 448,
     "metadata": {},
     "output_type": "execute_result"
    }
   ],
   "source": [
    "list_cons = []\n",
    "for i in range(len(list1)):\n",
    "    list_cons.append(list1[i]+tmp1[i])\n",
    "\n",
    "list_cons[:1]"
   ]
  },
  {
   "cell_type": "markdown",
   "metadata": {},
   "source": [
    "### To append the gender column and create a dictionary"
   ]
  },
  {
   "cell_type": "code",
   "execution_count": 449,
   "metadata": {
    "collapsed": true
   },
   "outputs": [],
   "source": [
    "dict1 = []\n",
    "for t, g in zip(list_cons, gender2):\n",
    "     dict1.append((t, g))"
   ]
  },
  {
   "cell_type": "code",
   "execution_count": 450,
   "metadata": {},
   "outputs": [
    {
     "data": {
      "text/plain": [
       "[([1,\n",
       "   1,\n",
       "   5,\n",
       "   2,\n",
       "   21,\n",
       "   1,\n",
       "   1,\n",
       "   1,\n",
       "   0,\n",
       "   0,\n",
       "   0,\n",
       "   0,\n",
       "   0,\n",
       "   'team',\n",
       "   '5',\n",
       "   'work',\n",
       "   'variou',\n",
       "   'project',\n",
       "   'relat',\n",
       "   'data',\n",
       "   'entri',\n",
       "   'research',\n",
       "   'work',\n",
       "   'content',\n",
       "   'write'],\n",
       "  1)]"
      ]
     },
     "execution_count": 450,
     "metadata": {},
     "output_type": "execute_result"
    }
   ],
   "source": [
    "dict1[:1]"
   ]
  },
  {
   "cell_type": "code",
   "execution_count": 451,
   "metadata": {},
   "outputs": [
    {
     "data": {
      "text/plain": [
       "298641"
      ]
     },
     "execution_count": 451,
     "metadata": {},
     "output_type": "execute_result"
    }
   ],
   "source": [
    "#Flattening the lists\n",
    "all_words_merge = [w for words, c in dict1 for w in words]\n",
    "len(all_words)"
   ]
  },
  {
   "cell_type": "code",
   "execution_count": 452,
   "metadata": {},
   "outputs": [
    {
     "data": {
      "text/plain": [
       "1222"
      ]
     },
     "execution_count": 452,
     "metadata": {},
     "output_type": "execute_result"
    }
   ],
   "source": [
    "words_freq_merge = nltk.FreqDist(all_words_merge)\n",
    "words_freq_merge['write']"
   ]
  },
  {
   "cell_type": "code",
   "execution_count": 453,
   "metadata": {},
   "outputs": [
    {
     "name": "stdout",
     "output_type": "stream",
     "text": [
      "Before: 36128 , after: 9953\n"
     ]
    }
   ],
   "source": [
    "selected_word_merge = [word for word, freq in words_freq_merge.items() if freq>1]\n",
    "print('Before:',len(words_freq), ', after:', len(selected_words))"
   ]
  },
  {
   "cell_type": "code",
   "execution_count": 454,
   "metadata": {
    "collapsed": true
   },
   "outputs": [],
   "source": [
    "token_data_merge = [([w for w in words if w in selected_word_merge], c) for words, c in dict1]"
   ]
  },
  {
   "cell_type": "code",
   "execution_count": 455,
   "metadata": {
    "collapsed": true
   },
   "outputs": [],
   "source": [
    "def extract_features(words, selected_words_merge):\n",
    "    ''' simply using words counts'''\n",
    "    return nltk.FreqDist([w for w in words if w in selected_word_merge])"
   ]
  },
  {
   "cell_type": "code",
   "execution_count": 456,
   "metadata": {
    "collapsed": true
   },
   "outputs": [],
   "source": [
    "feat_merge = [(extract_features(words,selected_word_merge), c) for words, c in dict1]"
   ]
  },
  {
   "cell_type": "code",
   "execution_count": 457,
   "metadata": {},
   "outputs": [
    {
     "data": {
      "text/plain": [
       "[(FreqDist({1: 5,\n",
       "            5: 1,\n",
       "            2: 1,\n",
       "            21: 1,\n",
       "            0: 5,\n",
       "            'team': 1,\n",
       "            '5': 1,\n",
       "            'work': 2,\n",
       "            'variou': 1,\n",
       "            'project': 1,\n",
       "            'relat': 1,\n",
       "            'data': 1,\n",
       "            'entri': 1,\n",
       "            'research': 1,\n",
       "            'content': 1,\n",
       "            'write': 1}),\n",
       "  1),\n",
       " (FreqDist({0: 5,\n",
       "            5: 1,\n",
       "            2: 1,\n",
       "            44: 1,\n",
       "            47: 1,\n",
       "            1: 4,\n",
       "            'solut': 1,\n",
       "            'servic': 1,\n",
       "            'provid': 1,\n",
       "            'compani': 2,\n",
       "            'expertis': 1,\n",
       "            'e-learn': 1,\n",
       "            'social': 1,\n",
       "            'media': 1,\n",
       "            'visit': 1,\n",
       "            'url': 1,\n",
       "            'know': 1}),\n",
       "  1)]"
      ]
     },
     "execution_count": 457,
     "metadata": {},
     "output_type": "execute_result"
    }
   ],
   "source": [
    "feat_merge[:2]"
   ]
  },
  {
   "cell_type": "markdown",
   "metadata": {},
   "source": [
    "### Naive Bayes Classifier"
   ]
  },
  {
   "cell_type": "code",
   "execution_count": 458,
   "metadata": {},
   "outputs": [
    {
     "name": "stdout",
     "output_type": "stream",
     "text": [
      "accuracy: 0.5688\n",
      "accuracy: 0.5888\n",
      "accuracy: 0.5224\n",
      "accuracy: 0.5712\n",
      "accuracy: 0.603682946357\n",
      "CV mean accuracy: 0.570976589271\n"
     ]
    }
   ],
   "source": [
    "# 2. Cross-Valiation\n",
    "from sklearn.model_selection import KFold\n",
    "import numpy as np\n",
    "k_fold = KFold(n_splits=5, shuffle=True)\n",
    "accu = []\n",
    "for train_idx, test_idx in k_fold.split(feat_merge):\n",
    "    train_nb = [feat_merge[i] for i in train_idx]\n",
    "    test_nb = [feat_merge[i] for i in test_idx]\n",
    "    classifier = nltk.NaiveBayesClassifier.train(train_nb)   \n",
    "    accu.append( nltk.classify.util.accuracy(classifier, test_nb) )\n",
    "    print('accuracy:', accu[len(accu)-1])    \n",
    "print('CV mean accuracy:', np.mean(accu)) ### Maximum Entropy classifier"
   ]
  },
  {
   "cell_type": "markdown",
   "metadata": {},
   "source": [
    "### maximum Entropy Classifier"
   ]
  },
  {
   "cell_type": "code",
   "execution_count": 459,
   "metadata": {},
   "outputs": [
    {
     "name": "stdout",
     "output_type": "stream",
     "text": [
      "  ==> Training (5 iterations)\n",
      "\n",
      "      Iteration    Log Likelihood    Accuracy\n",
      "      ---------------------------------------\n",
      "             1          -0.69315        0.815\n",
      "             2          -0.30708        0.815\n",
      "             3          -0.26715        0.814\n",
      "             4          -0.25560        0.809\n",
      "         Final          -0.25000        0.804\n",
      "accuracy: 0.7856\n",
      "  ==> Training (5 iterations)\n",
      "\n",
      "      Iteration    Log Likelihood    Accuracy\n",
      "      ---------------------------------------\n",
      "             1          -0.69315        0.815\n",
      "             2          -0.33043        0.815\n",
      "             3          -0.27550        0.813\n",
      "             4          -0.26102        0.806\n",
      "         Final          -0.25477        0.802\n",
      "accuracy: 0.7976\n",
      "  ==> Training (5 iterations)\n",
      "\n",
      "      Iteration    Log Likelihood    Accuracy\n",
      "      ---------------------------------------\n",
      "             1          -0.69315        0.813\n",
      "             2          -0.29165        0.813\n",
      "             3          -0.25035        0.812\n",
      "             4          -0.24076        0.810\n",
      "         Final          -0.23716        0.807\n",
      "accuracy: 0.812\n",
      "  ==> Training (5 iterations)\n",
      "\n",
      "      Iteration    Log Likelihood    Accuracy\n",
      "      ---------------------------------------\n",
      "             1          -0.69315        0.814\n",
      "             2          -0.32259        0.814\n",
      "             3          -0.27212        0.811\n",
      "             4          -0.25853        0.809\n",
      "         Final          -0.25240        0.806\n",
      "accuracy: 0.7888\n",
      "  ==> Training (5 iterations)\n",
      "\n",
      "      Iteration    Log Likelihood    Accuracy\n",
      "      ---------------------------------------\n",
      "             1          -0.69315        0.808\n",
      "             2          -0.45869        0.780\n",
      "             3          -0.42693        0.729\n",
      "             4          -0.42548        0.693\n",
      "         Final          -0.42636        0.678\n",
      "accuracy: 0.668534827862\n",
      "CV mean accuracy: 0.770506965572\n"
     ]
    }
   ],
   "source": [
    "k_fold = KFold(n_splits=5, shuffle=True)\n",
    "accu = []\n",
    "for train_idx, test_idx in k_fold.split(feat_merge):\n",
    "    train = [feat_merge[i] for i in train_idx]\n",
    "    test = [feat_merge[i] for i in test_idx]\n",
    "    classifier2_me = nltk.classify.MaxentClassifier.train(train, trace=3, max_iter=5)       \n",
    "    accu.append( nltk.classify.util.accuracy(classifier2_me, test) )\n",
    "    print('accuracy:', accu[len(accu)-1])    \n",
    "print('CV mean accuracy:', np.mean(accu)) "
   ]
  },
  {
   "cell_type": "markdown",
   "metadata": {},
   "source": [
    "### Creating Test Data"
   ]
  },
  {
   "cell_type": "code",
   "execution_count": 460,
   "metadata": {
    "collapsed": true
   },
   "outputs": [],
   "source": [
    "from nltk.corpus import stopwords\n",
    "from nltk.stem import PorterStemmer\n",
    "import string\n",
    "ps = PorterStemmer()\n",
    "from nltk.tokenize import word_tokenize\n",
    "import nltk\n",
    "def preprocess(text):\n",
    "    return [ps.stem(w) for w in word_tokenize(text.lower()) \n",
    "             if w not in string.punctuation and w not in stopwords.words('english')] "
   ]
  },
  {
   "cell_type": "markdown",
   "metadata": {},
   "source": [
    "### Creating test features for status column"
   ]
  },
  {
   "cell_type": "code",
   "execution_count": 461,
   "metadata": {},
   "outputs": [
    {
     "data": {
      "text/html": [
       "<div>\n",
       "<style>\n",
       "    .dataframe thead tr:only-child th {\n",
       "        text-align: right;\n",
       "    }\n",
       "\n",
       "    .dataframe thead th {\n",
       "        text-align: left;\n",
       "    }\n",
       "\n",
       "    .dataframe tbody tr th {\n",
       "        vertical-align: top;\n",
       "    }\n",
       "</style>\n",
       "<table border=\"1\" class=\"dataframe\">\n",
       "  <thead>\n",
       "    <tr style=\"text-align: right;\">\n",
       "      <th></th>\n",
       "      <th>deposit_made</th>\n",
       "      <th>email_verified</th>\n",
       "      <th>facebook_connected</th>\n",
       "      <th>identity_verified</th>\n",
       "      <th>payment_verified</th>\n",
       "      <th>phone_verified</th>\n",
       "      <th>profile_complete</th>\n",
       "    </tr>\n",
       "  </thead>\n",
       "  <tbody>\n",
       "    <tr>\n",
       "      <th>0</th>\n",
       "      <td>False</td>\n",
       "      <td>True</td>\n",
       "      <td>False</td>\n",
       "      <td>False</td>\n",
       "      <td>False</td>\n",
       "      <td>False</td>\n",
       "      <td>True</td>\n",
       "    </tr>\n",
       "    <tr>\n",
       "      <th>1</th>\n",
       "      <td>False</td>\n",
       "      <td>True</td>\n",
       "      <td>True</td>\n",
       "      <td>False</td>\n",
       "      <td>False</td>\n",
       "      <td>False</td>\n",
       "      <td>True</td>\n",
       "    </tr>\n",
       "    <tr>\n",
       "      <th>2</th>\n",
       "      <td>False</td>\n",
       "      <td>True</td>\n",
       "      <td>True</td>\n",
       "      <td>False</td>\n",
       "      <td>False</td>\n",
       "      <td>False</td>\n",
       "      <td>True</td>\n",
       "    </tr>\n",
       "    <tr>\n",
       "      <th>3</th>\n",
       "      <td>False</td>\n",
       "      <td>True</td>\n",
       "      <td>False</td>\n",
       "      <td>False</td>\n",
       "      <td>False</td>\n",
       "      <td>False</td>\n",
       "      <td>True</td>\n",
       "    </tr>\n",
       "    <tr>\n",
       "      <th>4</th>\n",
       "      <td>False</td>\n",
       "      <td>True</td>\n",
       "      <td>True</td>\n",
       "      <td>False</td>\n",
       "      <td>False</td>\n",
       "      <td>True</td>\n",
       "      <td>True</td>\n",
       "    </tr>\n",
       "  </tbody>\n",
       "</table>\n",
       "</div>"
      ],
      "text/plain": [
       "   deposit_made  email_verified  facebook_connected  identity_verified  \\\n",
       "0         False            True               False              False   \n",
       "1         False            True                True              False   \n",
       "2         False            True                True              False   \n",
       "3         False            True               False              False   \n",
       "4         False            True                True              False   \n",
       "\n",
       "   payment_verified  phone_verified  profile_complete  \n",
       "0             False           False              True  \n",
       "1             False           False              True  \n",
       "2             False           False              True  \n",
       "3             False           False              True  \n",
       "4             False            True              True  "
      ]
     },
     "execution_count": 461,
     "metadata": {},
     "output_type": "execute_result"
    }
   ],
   "source": [
    "test = pd.read_csv('test.csv')\n",
    "status_tst = test['status'].apply(literal_eval)\n",
    "# Now you need to find a way to split the dictionary format status as multiple columns\n",
    "status_tst=status_tst.apply(pd.Series)\n",
    "status_tst.head()"
   ]
  },
  {
   "cell_type": "code",
   "execution_count": 462,
   "metadata": {},
   "outputs": [
    {
     "data": {
      "text/plain": [
       "(2679, 7)"
      ]
     },
     "execution_count": 462,
     "metadata": {},
     "output_type": "execute_result"
    }
   ],
   "source": [
    "status_tst.shape"
   ]
  },
  {
   "cell_type": "markdown",
   "metadata": {},
   "source": [
    "### Creating test features from username column"
   ]
  },
  {
   "cell_type": "code",
   "execution_count": 463,
   "metadata": {
    "collapsed": true
   },
   "outputs": [],
   "source": [
    "# Feature for 1st work being capital letter\n",
    "gender_capital = []\n",
    "for word in test['username']:\n",
    "        if word[0].isupper() == True:\n",
    "            gender_capital.append(1)\n",
    "        else: gender_capital.append(0)\n",
    "\n",
    "se = pd.Series(gender_capital)\n",
    "test['Capital_Letter'] = se.values\n",
    "\n",
    "#Feature to verify if username has digits\n",
    "gender_digit = []\n",
    "for word in test['username']:\n",
    "       # if word[0].isdigit() == True:\n",
    "        if any(i.isdigit() for i in word) == True:\n",
    "            gender_digit.append(1)\n",
    "        else: gender_digit.append(0)\n",
    "gender_digit[:10]    \n",
    "dig = pd.Series(gender_digit)\n",
    "test['Hasdigit'] = dig.values\n",
    "\n",
    "#Feature to calculate the length of characters\n",
    "gender_charlen = []\n",
    "for word in test['username']:\n",
    "      \n",
    "        gender_charlen.append( len(word) - sum(c.isdigit() for c in word))\n",
    "\n",
    "clen = pd.Series(gender_charlen)\n",
    "test['charlen'] = clen.values\n",
    "\n",
    "#Feature to calculate the count of vowels\n",
    "gender_vowlen = []\n",
    "for word in test['username']:\n",
    "      \n",
    "        gender_vowlen.append(sum([1 for char in ''.join(word) if char in 'aeiouAEIOU']))\n",
    "\n",
    "vlen = pd.Series(gender_vowlen)\n",
    "test['vowlen'] = vlen.values\n",
    "\n",
    "#Feature to calculate the count of vowels\n",
    "gender_vowlen = []\n",
    "for word in test['username']:\n",
    "      \n",
    "        gender_vowlen.append(sum([1 for char in ''.join(word) if char in 'aeiouAEIOU']))\n",
    "            \n",
    "vlen = pd.Series(gender_vowlen)\n",
    "test['vowlen'] = vlen.values\n",
    "\n",
    "#code to identify last letter and 1st letter in the text\n",
    "gender_firstletter = []\n",
    "gender_lastletter = []\n",
    "for word in test['username']:\n",
    "      \n",
    "        gender_firstletter.append(word[0])\n",
    "        gender_lastletter.append(word[-1])\n",
    "        \n",
    "fl = pd.Series(gender_firstletter)\n",
    "test['firstletter'] = fl.values\n",
    "\n",
    "ll = pd.Series(gender_lastletter)\n",
    "test['lastletter'] = ll.values\n",
    "\n",
    "#Encoding\n",
    "test['firstletter_enc'] = lb.fit_transform(test['firstletter'].values)\n",
    "test['lastletter_enc'] = lb.fit_transform(test['lastletter'].values)"
   ]
  },
  {
   "cell_type": "code",
   "execution_count": 464,
   "metadata": {
    "scrolled": true
   },
   "outputs": [
    {
     "data": {
      "text/html": [
       "<div>\n",
       "<style>\n",
       "    .dataframe thead tr:only-child th {\n",
       "        text-align: right;\n",
       "    }\n",
       "\n",
       "    .dataframe thead th {\n",
       "        text-align: left;\n",
       "    }\n",
       "\n",
       "    .dataframe tbody tr th {\n",
       "        vertical-align: top;\n",
       "    }\n",
       "</style>\n",
       "<table border=\"1\" class=\"dataframe\">\n",
       "  <thead>\n",
       "    <tr style=\"text-align: right;\">\n",
       "      <th></th>\n",
       "      <th>username</th>\n",
       "      <th>status</th>\n",
       "      <th>description</th>\n",
       "      <th>Capital_Letter</th>\n",
       "      <th>Hasdigit</th>\n",
       "      <th>charlen</th>\n",
       "      <th>vowlen</th>\n",
       "      <th>firstletter</th>\n",
       "      <th>lastletter</th>\n",
       "      <th>firstletter_enc</th>\n",
       "      <th>lastletter_enc</th>\n",
       "      <th>deposit_made</th>\n",
       "      <th>email_verified</th>\n",
       "      <th>facebook_connected</th>\n",
       "      <th>identity_verified</th>\n",
       "      <th>payment_verified</th>\n",
       "      <th>phone_verified</th>\n",
       "      <th>profile_complete</th>\n",
       "    </tr>\n",
       "  </thead>\n",
       "  <tbody>\n",
       "    <tr>\n",
       "      <th>0</th>\n",
       "      <td>nazrulmadina</td>\n",
       "      <td>{u'payment_verified': False, u'identity_verifi...</td>\n",
       "      <td>I am one of Self-employed person having more t...</td>\n",
       "      <td>0</td>\n",
       "      <td>0</td>\n",
       "      <td>12</td>\n",
       "      <td>5</td>\n",
       "      <td>n</td>\n",
       "      <td>a</td>\n",
       "      <td>39</td>\n",
       "      <td>33</td>\n",
       "      <td>False</td>\n",
       "      <td>True</td>\n",
       "      <td>False</td>\n",
       "      <td>False</td>\n",
       "      <td>False</td>\n",
       "      <td>False</td>\n",
       "      <td>True</td>\n",
       "    </tr>\n",
       "    <tr>\n",
       "      <th>1</th>\n",
       "      <td>SehrishWarraich</td>\n",
       "      <td>{u'payment_verified': False, u'identity_verifi...</td>\n",
       "      <td>i am sehrish warraich.I do my job sincerelly a...</td>\n",
       "      <td>1</td>\n",
       "      <td>0</td>\n",
       "      <td>15</td>\n",
       "      <td>5</td>\n",
       "      <td>S</td>\n",
       "      <td>h</td>\n",
       "      <td>18</td>\n",
       "      <td>40</td>\n",
       "      <td>False</td>\n",
       "      <td>True</td>\n",
       "      <td>True</td>\n",
       "      <td>False</td>\n",
       "      <td>False</td>\n",
       "      <td>False</td>\n",
       "      <td>True</td>\n",
       "    </tr>\n",
       "    <tr>\n",
       "      <th>2</th>\n",
       "      <td>samadhinie</td>\n",
       "      <td>{u'payment_verified': False, u'identity_verifi...</td>\n",
       "      <td>Since 2006, Web based solution provider (Web e...</td>\n",
       "      <td>0</td>\n",
       "      <td>0</td>\n",
       "      <td>10</td>\n",
       "      <td>5</td>\n",
       "      <td>s</td>\n",
       "      <td>e</td>\n",
       "      <td>44</td>\n",
       "      <td>37</td>\n",
       "      <td>False</td>\n",
       "      <td>True</td>\n",
       "      <td>True</td>\n",
       "      <td>False</td>\n",
       "      <td>False</td>\n",
       "      <td>False</td>\n",
       "      <td>True</td>\n",
       "    </tr>\n",
       "    <tr>\n",
       "      <th>3</th>\n",
       "      <td>ebottabi</td>\n",
       "      <td>{u'payment_verified': False, u'identity_verifi...</td>\n",
       "      <td>Founder of  a geolocation service developed on...</td>\n",
       "      <td>0</td>\n",
       "      <td>0</td>\n",
       "      <td>8</td>\n",
       "      <td>4</td>\n",
       "      <td>e</td>\n",
       "      <td>i</td>\n",
       "      <td>30</td>\n",
       "      <td>41</td>\n",
       "      <td>False</td>\n",
       "      <td>True</td>\n",
       "      <td>False</td>\n",
       "      <td>False</td>\n",
       "      <td>False</td>\n",
       "      <td>False</td>\n",
       "      <td>True</td>\n",
       "    </tr>\n",
       "    <tr>\n",
       "      <th>4</th>\n",
       "      <td>mrjimoy</td>\n",
       "      <td>{u'payment_verified': False, u'identity_verifi...</td>\n",
       "      <td>Me? I am Jimmy, meaning honest, courageous, or...</td>\n",
       "      <td>0</td>\n",
       "      <td>0</td>\n",
       "      <td>7</td>\n",
       "      <td>2</td>\n",
       "      <td>m</td>\n",
       "      <td>y</td>\n",
       "      <td>38</td>\n",
       "      <td>57</td>\n",
       "      <td>False</td>\n",
       "      <td>True</td>\n",
       "      <td>True</td>\n",
       "      <td>False</td>\n",
       "      <td>False</td>\n",
       "      <td>True</td>\n",
       "      <td>True</td>\n",
       "    </tr>\n",
       "  </tbody>\n",
       "</table>\n",
       "</div>"
      ],
      "text/plain": [
       "          username                                             status  \\\n",
       "0     nazrulmadina  {u'payment_verified': False, u'identity_verifi...   \n",
       "1  SehrishWarraich  {u'payment_verified': False, u'identity_verifi...   \n",
       "2       samadhinie  {u'payment_verified': False, u'identity_verifi...   \n",
       "3         ebottabi  {u'payment_verified': False, u'identity_verifi...   \n",
       "4          mrjimoy  {u'payment_verified': False, u'identity_verifi...   \n",
       "\n",
       "                                         description  Capital_Letter  \\\n",
       "0  I am one of Self-employed person having more t...               0   \n",
       "1  i am sehrish warraich.I do my job sincerelly a...               1   \n",
       "2  Since 2006, Web based solution provider (Web e...               0   \n",
       "3  Founder of  a geolocation service developed on...               0   \n",
       "4  Me? I am Jimmy, meaning honest, courageous, or...               0   \n",
       "\n",
       "   Hasdigit  charlen  vowlen firstletter lastletter  firstletter_enc  \\\n",
       "0         0       12       5           n          a               39   \n",
       "1         0       15       5           S          h               18   \n",
       "2         0       10       5           s          e               44   \n",
       "3         0        8       4           e          i               30   \n",
       "4         0        7       2           m          y               38   \n",
       "\n",
       "   lastletter_enc  deposit_made  email_verified  facebook_connected  \\\n",
       "0              33         False            True               False   \n",
       "1              40         False            True                True   \n",
       "2              37         False            True                True   \n",
       "3              41         False            True               False   \n",
       "4              57         False            True                True   \n",
       "\n",
       "   identity_verified  payment_verified  phone_verified  profile_complete  \n",
       "0              False             False           False              True  \n",
       "1              False             False           False              True  \n",
       "2              False             False           False              True  \n",
       "3              False             False           False              True  \n",
       "4              False             False            True              True  "
      ]
     },
     "execution_count": 464,
     "metadata": {},
     "output_type": "execute_result"
    }
   ],
   "source": [
    "# Merge features for username and status\n",
    "test_merge = pd.concat([test,status_tst],axis = 1)\n",
    "test_merge.head()"
   ]
  },
  {
   "cell_type": "code",
   "execution_count": 465,
   "metadata": {
    "collapsed": true
   },
   "outputs": [],
   "source": [
    "#Encoding\n",
    "from sklearn.preprocessing import LabelEncoder"
   ]
  },
  {
   "cell_type": "code",
   "execution_count": 466,
   "metadata": {
    "collapsed": true
   },
   "outputs": [],
   "source": [
    "lb = LabelEncoder()"
   ]
  },
  {
   "cell_type": "code",
   "execution_count": 467,
   "metadata": {
    "collapsed": true
   },
   "outputs": [],
   "source": [
    "test_merge['firstletter'] = lb.fit_transform(test_merge['firstletter'].values)\n",
    "test_merge['lastletter'] = lb.fit_transform(test_merge['lastletter'].values)\n",
    "test_merge['deposit_made'] = lb.fit_transform(test_merge['deposit_made'].values)\n",
    "test_merge['email_verified'] = lb.fit_transform(test_merge['email_verified'].values)\n",
    "test_merge['facebook_connected'] = lb.fit_transform(test_merge['facebook_connected'].values)\n",
    "test_merge['identity_verified'] = lb.fit_transform(test_merge['identity_verified'].values)\n",
    "test_merge['payment_verified'] = lb.fit_transform(test_merge['payment_verified'].values)\n",
    "test_merge['phone_verified'] = lb.fit_transform(test_merge['phone_verified'].values)\n",
    "test_merge['profile_complete'] = lb.fit_transform(test_merge['profile_complete'].values)"
   ]
  },
  {
   "cell_type": "code",
   "execution_count": 468,
   "metadata": {},
   "outputs": [
    {
     "data": {
      "text/html": [
       "<div>\n",
       "<style>\n",
       "    .dataframe thead tr:only-child th {\n",
       "        text-align: right;\n",
       "    }\n",
       "\n",
       "    .dataframe thead th {\n",
       "        text-align: left;\n",
       "    }\n",
       "\n",
       "    .dataframe tbody tr th {\n",
       "        vertical-align: top;\n",
       "    }\n",
       "</style>\n",
       "<table border=\"1\" class=\"dataframe\">\n",
       "  <thead>\n",
       "    <tr style=\"text-align: right;\">\n",
       "      <th></th>\n",
       "      <th>username</th>\n",
       "      <th>status</th>\n",
       "      <th>description</th>\n",
       "      <th>Capital_Letter</th>\n",
       "      <th>Hasdigit</th>\n",
       "      <th>charlen</th>\n",
       "      <th>vowlen</th>\n",
       "      <th>firstletter</th>\n",
       "      <th>lastletter</th>\n",
       "      <th>firstletter_enc</th>\n",
       "      <th>lastletter_enc</th>\n",
       "      <th>deposit_made</th>\n",
       "      <th>email_verified</th>\n",
       "      <th>facebook_connected</th>\n",
       "      <th>identity_verified</th>\n",
       "      <th>payment_verified</th>\n",
       "      <th>phone_verified</th>\n",
       "      <th>profile_complete</th>\n",
       "    </tr>\n",
       "  </thead>\n",
       "  <tbody>\n",
       "    <tr>\n",
       "      <th>0</th>\n",
       "      <td>nazrulmadina</td>\n",
       "      <td>{u'payment_verified': False, u'identity_verifi...</td>\n",
       "      <td>I am one of Self-employed person having more t...</td>\n",
       "      <td>0</td>\n",
       "      <td>0</td>\n",
       "      <td>12</td>\n",
       "      <td>5</td>\n",
       "      <td>39</td>\n",
       "      <td>33</td>\n",
       "      <td>39</td>\n",
       "      <td>33</td>\n",
       "      <td>0</td>\n",
       "      <td>0</td>\n",
       "      <td>0</td>\n",
       "      <td>0</td>\n",
       "      <td>0</td>\n",
       "      <td>0</td>\n",
       "      <td>0</td>\n",
       "    </tr>\n",
       "    <tr>\n",
       "      <th>1</th>\n",
       "      <td>SehrishWarraich</td>\n",
       "      <td>{u'payment_verified': False, u'identity_verifi...</td>\n",
       "      <td>i am sehrish warraich.I do my job sincerelly a...</td>\n",
       "      <td>1</td>\n",
       "      <td>0</td>\n",
       "      <td>15</td>\n",
       "      <td>5</td>\n",
       "      <td>18</td>\n",
       "      <td>40</td>\n",
       "      <td>18</td>\n",
       "      <td>40</td>\n",
       "      <td>0</td>\n",
       "      <td>0</td>\n",
       "      <td>1</td>\n",
       "      <td>0</td>\n",
       "      <td>0</td>\n",
       "      <td>0</td>\n",
       "      <td>0</td>\n",
       "    </tr>\n",
       "    <tr>\n",
       "      <th>2</th>\n",
       "      <td>samadhinie</td>\n",
       "      <td>{u'payment_verified': False, u'identity_verifi...</td>\n",
       "      <td>Since 2006, Web based solution provider (Web e...</td>\n",
       "      <td>0</td>\n",
       "      <td>0</td>\n",
       "      <td>10</td>\n",
       "      <td>5</td>\n",
       "      <td>44</td>\n",
       "      <td>37</td>\n",
       "      <td>44</td>\n",
       "      <td>37</td>\n",
       "      <td>0</td>\n",
       "      <td>0</td>\n",
       "      <td>1</td>\n",
       "      <td>0</td>\n",
       "      <td>0</td>\n",
       "      <td>0</td>\n",
       "      <td>0</td>\n",
       "    </tr>\n",
       "    <tr>\n",
       "      <th>3</th>\n",
       "      <td>ebottabi</td>\n",
       "      <td>{u'payment_verified': False, u'identity_verifi...</td>\n",
       "      <td>Founder of  a geolocation service developed on...</td>\n",
       "      <td>0</td>\n",
       "      <td>0</td>\n",
       "      <td>8</td>\n",
       "      <td>4</td>\n",
       "      <td>30</td>\n",
       "      <td>41</td>\n",
       "      <td>30</td>\n",
       "      <td>41</td>\n",
       "      <td>0</td>\n",
       "      <td>0</td>\n",
       "      <td>0</td>\n",
       "      <td>0</td>\n",
       "      <td>0</td>\n",
       "      <td>0</td>\n",
       "      <td>0</td>\n",
       "    </tr>\n",
       "    <tr>\n",
       "      <th>4</th>\n",
       "      <td>mrjimoy</td>\n",
       "      <td>{u'payment_verified': False, u'identity_verifi...</td>\n",
       "      <td>Me? I am Jimmy, meaning honest, courageous, or...</td>\n",
       "      <td>0</td>\n",
       "      <td>0</td>\n",
       "      <td>7</td>\n",
       "      <td>2</td>\n",
       "      <td>38</td>\n",
       "      <td>57</td>\n",
       "      <td>38</td>\n",
       "      <td>57</td>\n",
       "      <td>0</td>\n",
       "      <td>0</td>\n",
       "      <td>1</td>\n",
       "      <td>0</td>\n",
       "      <td>0</td>\n",
       "      <td>1</td>\n",
       "      <td>0</td>\n",
       "    </tr>\n",
       "  </tbody>\n",
       "</table>\n",
       "</div>"
      ],
      "text/plain": [
       "          username                                             status  \\\n",
       "0     nazrulmadina  {u'payment_verified': False, u'identity_verifi...   \n",
       "1  SehrishWarraich  {u'payment_verified': False, u'identity_verifi...   \n",
       "2       samadhinie  {u'payment_verified': False, u'identity_verifi...   \n",
       "3         ebottabi  {u'payment_verified': False, u'identity_verifi...   \n",
       "4          mrjimoy  {u'payment_verified': False, u'identity_verifi...   \n",
       "\n",
       "                                         description  Capital_Letter  \\\n",
       "0  I am one of Self-employed person having more t...               0   \n",
       "1  i am sehrish warraich.I do my job sincerelly a...               1   \n",
       "2  Since 2006, Web based solution provider (Web e...               0   \n",
       "3  Founder of  a geolocation service developed on...               0   \n",
       "4  Me? I am Jimmy, meaning honest, courageous, or...               0   \n",
       "\n",
       "   Hasdigit  charlen  vowlen  firstletter  lastletter  firstletter_enc  \\\n",
       "0         0       12       5           39          33               39   \n",
       "1         0       15       5           18          40               18   \n",
       "2         0       10       5           44          37               44   \n",
       "3         0        8       4           30          41               30   \n",
       "4         0        7       2           38          57               38   \n",
       "\n",
       "   lastletter_enc  deposit_made  email_verified  facebook_connected  \\\n",
       "0              33             0               0                   0   \n",
       "1              40             0               0                   1   \n",
       "2              37             0               0                   1   \n",
       "3              41             0               0                   0   \n",
       "4              57             0               0                   1   \n",
       "\n",
       "   identity_verified  payment_verified  phone_verified  profile_complete  \n",
       "0                  0                 0               0                 0  \n",
       "1                  0                 0               0                 0  \n",
       "2                  0                 0               0                 0  \n",
       "3                  0                 0               0                 0  \n",
       "4                  0                 0               1                 0  "
      ]
     },
     "execution_count": 468,
     "metadata": {},
     "output_type": "execute_result"
    }
   ],
   "source": [
    "test_merge.head()"
   ]
  },
  {
   "cell_type": "code",
   "execution_count": 469,
   "metadata": {},
   "outputs": [
    {
     "data": {
      "text/html": [
       "<div>\n",
       "<style>\n",
       "    .dataframe thead tr:only-child th {\n",
       "        text-align: right;\n",
       "    }\n",
       "\n",
       "    .dataframe thead th {\n",
       "        text-align: left;\n",
       "    }\n",
       "\n",
       "    .dataframe tbody tr th {\n",
       "        vertical-align: top;\n",
       "    }\n",
       "</style>\n",
       "<table border=\"1\" class=\"dataframe\">\n",
       "  <thead>\n",
       "    <tr style=\"text-align: right;\">\n",
       "      <th></th>\n",
       "      <th>Capital_Letter</th>\n",
       "      <th>Hasdigit</th>\n",
       "      <th>charlen</th>\n",
       "      <th>vowlen</th>\n",
       "      <th>firstletter</th>\n",
       "      <th>lastletter</th>\n",
       "      <th>firstletter_enc</th>\n",
       "      <th>lastletter_enc</th>\n",
       "      <th>deposit_made</th>\n",
       "      <th>email_verified</th>\n",
       "      <th>facebook_connected</th>\n",
       "      <th>identity_verified</th>\n",
       "      <th>payment_verified</th>\n",
       "      <th>phone_verified</th>\n",
       "      <th>profile_complete</th>\n",
       "    </tr>\n",
       "  </thead>\n",
       "  <tbody>\n",
       "    <tr>\n",
       "      <th>0</th>\n",
       "      <td>0</td>\n",
       "      <td>0</td>\n",
       "      <td>12</td>\n",
       "      <td>5</td>\n",
       "      <td>39</td>\n",
       "      <td>33</td>\n",
       "      <td>39</td>\n",
       "      <td>33</td>\n",
       "      <td>0</td>\n",
       "      <td>0</td>\n",
       "      <td>0</td>\n",
       "      <td>0</td>\n",
       "      <td>0</td>\n",
       "      <td>0</td>\n",
       "      <td>0</td>\n",
       "    </tr>\n",
       "    <tr>\n",
       "      <th>1</th>\n",
       "      <td>1</td>\n",
       "      <td>0</td>\n",
       "      <td>15</td>\n",
       "      <td>5</td>\n",
       "      <td>18</td>\n",
       "      <td>40</td>\n",
       "      <td>18</td>\n",
       "      <td>40</td>\n",
       "      <td>0</td>\n",
       "      <td>0</td>\n",
       "      <td>1</td>\n",
       "      <td>0</td>\n",
       "      <td>0</td>\n",
       "      <td>0</td>\n",
       "      <td>0</td>\n",
       "    </tr>\n",
       "    <tr>\n",
       "      <th>2</th>\n",
       "      <td>0</td>\n",
       "      <td>0</td>\n",
       "      <td>10</td>\n",
       "      <td>5</td>\n",
       "      <td>44</td>\n",
       "      <td>37</td>\n",
       "      <td>44</td>\n",
       "      <td>37</td>\n",
       "      <td>0</td>\n",
       "      <td>0</td>\n",
       "      <td>1</td>\n",
       "      <td>0</td>\n",
       "      <td>0</td>\n",
       "      <td>0</td>\n",
       "      <td>0</td>\n",
       "    </tr>\n",
       "    <tr>\n",
       "      <th>3</th>\n",
       "      <td>0</td>\n",
       "      <td>0</td>\n",
       "      <td>8</td>\n",
       "      <td>4</td>\n",
       "      <td>30</td>\n",
       "      <td>41</td>\n",
       "      <td>30</td>\n",
       "      <td>41</td>\n",
       "      <td>0</td>\n",
       "      <td>0</td>\n",
       "      <td>0</td>\n",
       "      <td>0</td>\n",
       "      <td>0</td>\n",
       "      <td>0</td>\n",
       "      <td>0</td>\n",
       "    </tr>\n",
       "    <tr>\n",
       "      <th>4</th>\n",
       "      <td>0</td>\n",
       "      <td>0</td>\n",
       "      <td>7</td>\n",
       "      <td>2</td>\n",
       "      <td>38</td>\n",
       "      <td>57</td>\n",
       "      <td>38</td>\n",
       "      <td>57</td>\n",
       "      <td>0</td>\n",
       "      <td>0</td>\n",
       "      <td>1</td>\n",
       "      <td>0</td>\n",
       "      <td>0</td>\n",
       "      <td>1</td>\n",
       "      <td>0</td>\n",
       "    </tr>\n",
       "  </tbody>\n",
       "</table>\n",
       "</div>"
      ],
      "text/plain": [
       "   Capital_Letter  Hasdigit  charlen  vowlen  firstletter  lastletter  \\\n",
       "0               0         0       12       5           39          33   \n",
       "1               1         0       15       5           18          40   \n",
       "2               0         0       10       5           44          37   \n",
       "3               0         0        8       4           30          41   \n",
       "4               0         0        7       2           38          57   \n",
       "\n",
       "   firstletter_enc  lastletter_enc  deposit_made  email_verified  \\\n",
       "0               39              33             0               0   \n",
       "1               18              40             0               0   \n",
       "2               44              37             0               0   \n",
       "3               30              41             0               0   \n",
       "4               38              57             0               0   \n",
       "\n",
       "   facebook_connected  identity_verified  payment_verified  phone_verified  \\\n",
       "0                   0                  0                 0               0   \n",
       "1                   1                  0                 0               0   \n",
       "2                   1                  0                 0               0   \n",
       "3                   0                  0                 0               0   \n",
       "4                   1                  0                 0               1   \n",
       "\n",
       "   profile_complete  \n",
       "0                 0  \n",
       "1                 0  \n",
       "2                 0  \n",
       "3                 0  \n",
       "4                 0  "
      ]
     },
     "execution_count": 469,
     "metadata": {},
     "output_type": "execute_result"
    }
   ],
   "source": [
    "test_merge1 = test_merge.drop(['username','status','description'],axis=1)\n",
    "test_merge1.head()"
   ]
  },
  {
   "cell_type": "code",
   "execution_count": 470,
   "metadata": {},
   "outputs": [
    {
     "data": {
      "text/plain": [
       "2679"
      ]
     },
     "execution_count": 470,
     "metadata": {},
     "output_type": "execute_result"
    }
   ],
   "source": [
    "list_tst = test_merge1.values.tolist()\n",
    "len(list_tst)"
   ]
  },
  {
   "cell_type": "code",
   "execution_count": 471,
   "metadata": {},
   "outputs": [
    {
     "data": {
      "text/plain": [
       "Index(['Capital_Letter', 'Hasdigit', 'charlen', 'vowlen', 'firstletter',\n",
       "       'lastletter', 'firstletter_enc', 'lastletter_enc', 'deposit_made',\n",
       "       'email_verified', 'facebook_connected', 'identity_verified',\n",
       "       'payment_verified', 'phone_verified', 'profile_complete'],\n",
       "      dtype='object')"
      ]
     },
     "execution_count": 471,
     "metadata": {},
     "output_type": "execute_result"
    }
   ],
   "source": [
    "test_merge1.columns"
   ]
  },
  {
   "cell_type": "markdown",
   "metadata": {},
   "source": [
    "### To create feature for description in test"
   ]
  },
  {
   "cell_type": "code",
   "execution_count": 472,
   "metadata": {
    "collapsed": true
   },
   "outputs": [],
   "source": [
    "description_tst = list(test['description'])\n",
    "tmp_tst = []\n",
    "for t in description_tst:\n",
    "    tmp_tst.append((preprocess(t)))"
   ]
  },
  {
   "cell_type": "code",
   "execution_count": 473,
   "metadata": {},
   "outputs": [
    {
     "data": {
      "text/plain": [
       "2679"
      ]
     },
     "execution_count": 473,
     "metadata": {},
     "output_type": "execute_result"
    }
   ],
   "source": [
    "len(tmp_tst)"
   ]
  },
  {
   "cell_type": "markdown",
   "metadata": {},
   "source": [
    "### To merge features created for username, status and description in test"
   ]
  },
  {
   "cell_type": "code",
   "execution_count": 474,
   "metadata": {
    "collapsed": true
   },
   "outputs": [],
   "source": [
    "list_cons = []\n",
    "for i in range(len(list_tst)):\n",
    "    list_cons.append(list_tst[i]+tmp_tst[i])"
   ]
  },
  {
   "cell_type": "code",
   "execution_count": 475,
   "metadata": {},
   "outputs": [
    {
     "name": "stdout",
     "output_type": "stream",
     "text": [
      "Before: 20201 , after: 5879\n"
     ]
    },
    {
     "data": {
      "text/plain": [
       "[FreqDist({0: 9,\n",
       "           12: 1,\n",
       "           5: 1,\n",
       "           39: 2,\n",
       "           33: 2,\n",
       "           'one': 1,\n",
       "           'self-employ': 1,\n",
       "           'person': 1,\n",
       "           '16': 1,\n",
       "           'year': 1,\n",
       "           'experi': 1,\n",
       "           'comput': 2,\n",
       "           'program': 1,\n",
       "           'softwar': 1,\n",
       "           'develop': 2,\n",
       "           'busi': 1,\n",
       "           'correspond': 1,\n",
       "           'articl': 1,\n",
       "           'blog': 1,\n",
       "           'write': 1,\n",
       "           'web': 2,\n",
       "           'page': 2,\n",
       "           'design': 1,\n",
       "           'etc': 1}),\n",
       " FreqDist({1: 2,\n",
       "           0: 7,\n",
       "           15: 1,\n",
       "           5: 1,\n",
       "           18: 2,\n",
       "           40: 2,\n",
       "           'job': 2,\n",
       "           'submit': 1,\n",
       "           'mission': 1,\n",
       "           'better': 2,\n",
       "           'next': 1,\n",
       "           'time': 1,\n",
       "           'previou': 1,\n",
       "           'one.i': 1,\n",
       "           'experienc': 1,\n",
       "           'data': 1,\n",
       "           'entri': 1})]"
      ]
     },
     "execution_count": 475,
     "metadata": {},
     "output_type": "execute_result"
    }
   ],
   "source": [
    "# Flattening the data\n",
    "all_words_tst = [w for words in list_cons for w in words]\n",
    "len(all_words_tst)\n",
    "\n",
    "import nltk\n",
    "words_freq_tst = nltk.FreqDist(all_words_tst)\n",
    "\n",
    "selected_words_tst = [word for word, freq in words_freq_tst.items() if freq>1]\n",
    "print('Before:',len(words_freq_tst), ', after:', len(selected_words_tst))\n",
    "\n",
    "token_data = [([w for w in words if w in selected_words]) for words in list_cons]\n",
    "\n",
    "def extract_features(words, selected_words):\n",
    "    ''' simply using words counts'''\n",
    "    return nltk.FreqDist([w for w in words if w in selected_words_tst])\n",
    "\n",
    "feat_tst = [(extract_features(words,selected_words_tst)) for words in list_cons]\n",
    "\n",
    "feat_tst[:2]"
   ]
  },
  {
   "cell_type": "code",
   "execution_count": 476,
   "metadata": {
    "collapsed": true
   },
   "outputs": [],
   "source": [
    "#accuracy with sklearn\n",
    "from nltk.corpus import stopwords\n",
    "from nltk.stem import PorterStemmer\n",
    "import string\n",
    "ps = PorterStemmer()\n",
    "from nltk.tokenize import word_tokenize\n",
    "import nltk"
   ]
  },
  {
   "cell_type": "markdown",
   "metadata": {},
   "source": [
    "### Predicting using Naive bayes"
   ]
  },
  {
   "cell_type": "code",
   "execution_count": 477,
   "metadata": {
    "collapsed": true
   },
   "outputs": [],
   "source": [
    "#creating the list of predictions\n",
    "feat_only = [(extract_features(words,selected_words_tst)) for words in list_cons]\n",
    "pred_merge_nb = [classifier.classify(row) for row in feat_only]"
   ]
  },
  {
   "cell_type": "code",
   "execution_count": 478,
   "metadata": {
    "collapsed": true
   },
   "outputs": [],
   "source": [
    "# support your predictions are stored in a list named pred_uname\n",
    "zz = pd.DataFrame({'username':test_desc['username'],'description':test_desc['description'], 'prediction':pred_merge_nb})\n",
    "zz.to_csv('pred_merge_nb.csv', index=False)"
   ]
  },
  {
   "cell_type": "markdown",
   "metadata": {},
   "source": [
    "### predciting using Maximum entropy"
   ]
  },
  {
   "cell_type": "code",
   "execution_count": 479,
   "metadata": {
    "collapsed": true
   },
   "outputs": [],
   "source": [
    "#creating the list of predictions\n",
    "feat_only = [(extract_features(words,selected_words_tst)) for words in list_cons]\n",
    "pred_merge_MEC = [classifier2_me.classify(row) for row in feat_only]"
   ]
  },
  {
   "cell_type": "code",
   "execution_count": 480,
   "metadata": {
    "collapsed": true
   },
   "outputs": [],
   "source": [
    "# support your predictions are stored in a list named pred_uname\n",
    "zz = pd.DataFrame({'username':test_desc['username'],'description':test_desc['description'], 'prediction':pred_merge_MEC})\n",
    "zz.to_csv('pred_merge_MEC.csv', index=False)"
   ]
  },
  {
   "cell_type": "markdown",
   "metadata": {},
   "source": [
    "### In the 1st question:\n",
    "\n",
    "### 1. Created features based on capital letters, firstname, lastname, length of vowels, legth of digits\n",
    "### 2. Encoded the categorical variables to numerical using label encoder\n",
    "### 3. Executed the models Naive bayes, logistic and decision tree gave better results\n",
    "\n",
    "### Analysis: Logistic was overfitting, Naive bayes gave the best results\n",
    "\n",
    "### In the 2nd question:\n",
    "\n",
    "### 1. Created features for description by tokenization, removig stop words, puntuation and taking stem words\n",
    "### 2. created model for SVM, Naive bayes and Entropy classifier.\n",
    "### 3. Entropy classifier provided best results\n",
    "\n",
    "### In the 3rd question\n",
    "\n",
    "### 1. Created features for description by tokenization, removig stop words, puntuation and taking stem words\n",
    "### 2.  Created features based on capital letters, firstname, lastname, length of vowels, legth of digits\n",
    "### 3. split the status column for into multiple features and encoded the boolen values to binary.\n",
    "### 4. Merged the features created in step 1 ,2 and 3\n",
    "### 5. Created models Naive bayes and MEC\n",
    "### 6. MEC gives the best results"
   ]
  },
  {
   "cell_type": "markdown",
   "metadata": {},
   "source": [
    "### Extra Credit: Try Different Features and Models for Best Performance\n",
    "Save your predictions as netid_1.csv, ..., netid_5.csv"
   ]
  },
  {
   "cell_type": "code",
   "execution_count": null,
   "metadata": {
    "collapsed": true
   },
   "outputs": [],
   "source": []
  }
 ],
 "metadata": {
  "kernelspec": {
   "display_name": "Python 3",
   "language": "python",
   "name": "python3"
  },
  "language_info": {
   "codemirror_mode": {
    "name": "ipython",
    "version": 3
   },
   "file_extension": ".py",
   "mimetype": "text/x-python",
   "name": "python",
   "nbconvert_exporter": "python",
   "pygments_lexer": "ipython3",
   "version": "3.6.1"
  }
 },
 "nbformat": 4,
 "nbformat_minor": 2
}
